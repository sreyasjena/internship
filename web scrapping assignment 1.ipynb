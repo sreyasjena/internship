{
 "cells": [
  {
   "cell_type": "markdown",
   "id": "facf179f",
   "metadata": {},
   "source": [
    "# Question 1"
   ]
  },
  {
   "cell_type": "code",
   "execution_count": 3,
   "id": "ab118949",
   "metadata": {},
   "outputs": [],
   "source": [
    "import requests\n",
    "from bs4 import BeautifulSoup\n"
   ]
  },
  {
   "cell_type": "code",
   "execution_count": 4,
   "id": "14305be3",
   "metadata": {},
   "outputs": [],
   "source": [
    "url = \"https://en.wikipedia.org/wiki/Main_Page\"\n"
   ]
  },
  {
   "cell_type": "code",
   "execution_count": 5,
   "id": "203f3eaf",
   "metadata": {},
   "outputs": [],
   "source": [
    "page = requests.get(url)"
   ]
  },
  {
   "cell_type": "code",
   "execution_count": 6,
   "id": "069216c7",
   "metadata": {},
   "outputs": [
    {
     "data": {
      "text/plain": [
       "<Response [200]>"
      ]
     },
     "execution_count": 6,
     "metadata": {},
     "output_type": "execute_result"
    }
   ],
   "source": [
    "page"
   ]
  },
  {
   "cell_type": "code",
   "execution_count": 7,
   "id": "9fd889af",
   "metadata": {},
   "outputs": [],
   "source": [
    "soup = BeautifulSoup(page.content)"
   ]
  },
  {
   "cell_type": "code",
   "execution_count": 8,
   "id": "3481a5e4",
   "metadata": {},
   "outputs": [
    {
     "data": {
      "text/plain": [
       "['Welcome to Wikipedia',\n",
       " \"From today's featured article\",\n",
       " 'Did you know\\xa0...',\n",
       " 'In the news',\n",
       " 'On this day',\n",
       " \"Today's featured picture\",\n",
       " 'Other areas of Wikipedia',\n",
       " \"Wikipedia's sister projects\",\n",
       " 'Wikipedia languages']"
      ]
     },
     "execution_count": 8,
     "metadata": {},
     "output_type": "execute_result"
    }
   ],
   "source": [
    "headertags = []\n",
    "for i in soup.find_all(\"span\",class_=\"mw-headline\"):\n",
    "    headertags.append(i.text)\n",
    "\n",
    "    \n",
    "    \n",
    "    \n",
    "headertags"
   ]
  },
  {
   "cell_type": "code",
   "execution_count": 9,
   "id": "f4a54242",
   "metadata": {},
   "outputs": [],
   "source": [
    "import pandas as pd"
   ]
  },
  {
   "cell_type": "code",
   "execution_count": 10,
   "id": "0ecf9d67",
   "metadata": {},
   "outputs": [
    {
     "data": {
      "text/html": [
       "<div>\n",
       "<style scoped>\n",
       "    .dataframe tbody tr th:only-of-type {\n",
       "        vertical-align: middle;\n",
       "    }\n",
       "\n",
       "    .dataframe tbody tr th {\n",
       "        vertical-align: top;\n",
       "    }\n",
       "\n",
       "    .dataframe thead th {\n",
       "        text-align: right;\n",
       "    }\n",
       "</style>\n",
       "<table border=\"1\" class=\"dataframe\">\n",
       "  <thead>\n",
       "    <tr style=\"text-align: right;\">\n",
       "      <th></th>\n",
       "      <th>Header tags</th>\n",
       "    </tr>\n",
       "  </thead>\n",
       "  <tbody>\n",
       "    <tr>\n",
       "      <th>0</th>\n",
       "      <td>Welcome to Wikipedia</td>\n",
       "    </tr>\n",
       "    <tr>\n",
       "      <th>1</th>\n",
       "      <td>From today's featured article</td>\n",
       "    </tr>\n",
       "    <tr>\n",
       "      <th>2</th>\n",
       "      <td>Did you know ...</td>\n",
       "    </tr>\n",
       "    <tr>\n",
       "      <th>3</th>\n",
       "      <td>In the news</td>\n",
       "    </tr>\n",
       "    <tr>\n",
       "      <th>4</th>\n",
       "      <td>On this day</td>\n",
       "    </tr>\n",
       "    <tr>\n",
       "      <th>5</th>\n",
       "      <td>Today's featured picture</td>\n",
       "    </tr>\n",
       "    <tr>\n",
       "      <th>6</th>\n",
       "      <td>Other areas of Wikipedia</td>\n",
       "    </tr>\n",
       "    <tr>\n",
       "      <th>7</th>\n",
       "      <td>Wikipedia's sister projects</td>\n",
       "    </tr>\n",
       "    <tr>\n",
       "      <th>8</th>\n",
       "      <td>Wikipedia languages</td>\n",
       "    </tr>\n",
       "  </tbody>\n",
       "</table>\n",
       "</div>"
      ],
      "text/plain": [
       "                     Header tags\n",
       "0           Welcome to Wikipedia\n",
       "1  From today's featured article\n",
       "2               Did you know ...\n",
       "3                    In the news\n",
       "4                    On this day\n",
       "5       Today's featured picture\n",
       "6       Other areas of Wikipedia\n",
       "7    Wikipedia's sister projects\n",
       "8            Wikipedia languages"
      ]
     },
     "execution_count": 10,
     "metadata": {},
     "output_type": "execute_result"
    }
   ],
   "source": [
    "df = pd.DataFrame({'Header tags':headertags})\n",
    "df"
   ]
  },
  {
   "cell_type": "markdown",
   "id": "60b91b7f",
   "metadata": {},
   "source": [
    "# Question 2"
   ]
  },
  {
   "cell_type": "code",
   "execution_count": 11,
   "id": "8613c6a5",
   "metadata": {},
   "outputs": [],
   "source": [
    "import requests\n",
    "from bs4 import BeautifulSoup"
   ]
  },
  {
   "cell_type": "code",
   "execution_count": 12,
   "id": "51215ae3",
   "metadata": {},
   "outputs": [],
   "source": [
    "url = \"https://presidentofindia.nic.in/former-presidents.htm\""
   ]
  },
  {
   "cell_type": "code",
   "execution_count": 13,
   "id": "29ae34b8",
   "metadata": {},
   "outputs": [
    {
     "data": {
      "text/plain": [
       "<Response [200]>"
      ]
     },
     "execution_count": 13,
     "metadata": {},
     "output_type": "execute_result"
    }
   ],
   "source": [
    "page = requests.get(url)\n",
    "\n",
    "page"
   ]
  },
  {
   "cell_type": "code",
   "execution_count": 14,
   "id": "6395191c",
   "metadata": {},
   "outputs": [],
   "source": [
    "soup = BeautifulSoup(page.content)"
   ]
  },
  {
   "cell_type": "code",
   "execution_count": 6,
   "id": "959bcaed",
   "metadata": {},
   "outputs": [
    {
     "data": {
      "text/plain": [
       "['Shri Ram Nath Kovind (birth - 1945)',\n",
       " 'Shri Pranab Mukherjee (1935-2020)',\n",
       " 'Smt Pratibha Devisingh Patil (birth - 1934)',\n",
       " 'DR. A.P.J. Abdul Kalam (1931-2015)',\n",
       " 'Shri K. R. Narayanan (1920 - 2005)',\n",
       " 'Dr Shankar Dayal Sharma (1918-1999)',\n",
       " 'Shri R Venkataraman (1910-2009)',\n",
       " 'Giani Zail Singh (1916-1994)',\n",
       " 'Shri Neelam Sanjiva Reddy (1913-1996)',\n",
       " 'Dr. Fakhruddin Ali Ahmed (1905-1977)',\n",
       " 'Shri Varahagiri Venkata Giri (1894-1980)',\n",
       " 'Dr. Zakir Husain (1897-1969)',\n",
       " 'Dr. Sarvepalli Radhakrishnan (1888-1975)',\n",
       " 'Dr. Rajendra Prasad (1884-1963) ']"
      ]
     },
     "execution_count": 6,
     "metadata": {},
     "output_type": "execute_result"
    }
   ],
   "source": [
    "names = []\n",
    "for i in soup.find_all(\"h3\"):\n",
    "    names.append(i.text)\n",
    "\n",
    "    \n",
    "    \n",
    "names"
   ]
  },
  {
   "cell_type": "code",
   "execution_count": 10,
   "id": "8ec3041f",
   "metadata": {},
   "outputs": [],
   "source": [
    "terms = []\n",
    "for i in soup.find_all(\"div\",class_=\"presidentListing\"):\n",
    "\n",
    "     terms.append(i.find_all(\"p\")[0].text.split(\":\")[1])\n",
    "        \n",
    "\n",
    "        \n",
    "        \n"
   ]
  },
  {
   "cell_type": "code",
   "execution_count": 25,
   "id": "ca81ee39",
   "metadata": {},
   "outputs": [
    {
     "data": {
      "text/plain": [
       "[' 25 July, 2017 to 25 July, 2022 ',\n",
       " ' 25 July, 2012 to 25 July, 2017 ',\n",
       " ' 25 July, 2007 to 25 July, 2012 ',\n",
       " ' 25 July, 2002 to 25 July, 2007 ',\n",
       " ' 25 July, 1997 to 25 July, 2002 ',\n",
       " ' 25 July, 1992 to 25 July, 1997 ',\n",
       " ' 25 July, 1987 to 25 July, 1992 ',\n",
       " ' 25 July, 1982 to 25 July, 1987 ',\n",
       " ' 25 July, 1977 to 25 July, 1982 ',\n",
       " ' 24 August, 1974 to 11 February, 1977',\n",
       " ' 3 May, 1969 to 20 July, 1969 and 24 August, 1969 to 24 August, 1974',\n",
       " ' 13 May, 1967 to 3 May, 1969',\n",
       " ' 13 May, 1962 to 13 May, 1967',\n",
       " ' 26 January, 1950 to 13 May, 1962']"
      ]
     },
     "execution_count": 25,
     "metadata": {},
     "output_type": "execute_result"
    }
   ],
   "source": [
    "terms"
   ]
  },
  {
   "cell_type": "code",
   "execution_count": 30,
   "id": "cb485ac2",
   "metadata": {},
   "outputs": [],
   "source": [
    "import pandas as pd"
   ]
  },
  {
   "cell_type": "code",
   "execution_count": 33,
   "id": "9f412bd0",
   "metadata": {},
   "outputs": [
    {
     "data": {
      "text/html": [
       "<div>\n",
       "<style scoped>\n",
       "    .dataframe tbody tr th:only-of-type {\n",
       "        vertical-align: middle;\n",
       "    }\n",
       "\n",
       "    .dataframe tbody tr th {\n",
       "        vertical-align: top;\n",
       "    }\n",
       "\n",
       "    .dataframe thead th {\n",
       "        text-align: right;\n",
       "    }\n",
       "</style>\n",
       "<table border=\"1\" class=\"dataframe\">\n",
       "  <thead>\n",
       "    <tr style=\"text-align: right;\">\n",
       "      <th></th>\n",
       "      <th>Name of the president</th>\n",
       "      <th>Term of office</th>\n",
       "    </tr>\n",
       "  </thead>\n",
       "  <tbody>\n",
       "    <tr>\n",
       "      <th>0</th>\n",
       "      <td>Shri Ram Nath Kovind (birth - 1945)</td>\n",
       "      <td>25 July, 2017 to 25 July, 2022</td>\n",
       "    </tr>\n",
       "    <tr>\n",
       "      <th>1</th>\n",
       "      <td>Shri Pranab Mukherjee (1935-2020)</td>\n",
       "      <td>25 July, 2012 to 25 July, 2017</td>\n",
       "    </tr>\n",
       "    <tr>\n",
       "      <th>2</th>\n",
       "      <td>Smt Pratibha Devisingh Patil (birth - 1934)</td>\n",
       "      <td>25 July, 2007 to 25 July, 2012</td>\n",
       "    </tr>\n",
       "    <tr>\n",
       "      <th>3</th>\n",
       "      <td>DR. A.P.J. Abdul Kalam (1931-2015)</td>\n",
       "      <td>25 July, 2002 to 25 July, 2007</td>\n",
       "    </tr>\n",
       "    <tr>\n",
       "      <th>4</th>\n",
       "      <td>Shri K. R. Narayanan (1920 - 2005)</td>\n",
       "      <td>25 July, 1997 to 25 July, 2002</td>\n",
       "    </tr>\n",
       "    <tr>\n",
       "      <th>5</th>\n",
       "      <td>Dr Shankar Dayal Sharma (1918-1999)</td>\n",
       "      <td>25 July, 1992 to 25 July, 1997</td>\n",
       "    </tr>\n",
       "    <tr>\n",
       "      <th>6</th>\n",
       "      <td>Shri R Venkataraman (1910-2009)</td>\n",
       "      <td>25 July, 1987 to 25 July, 1992</td>\n",
       "    </tr>\n",
       "    <tr>\n",
       "      <th>7</th>\n",
       "      <td>Giani Zail Singh (1916-1994)</td>\n",
       "      <td>25 July, 1982 to 25 July, 1987</td>\n",
       "    </tr>\n",
       "    <tr>\n",
       "      <th>8</th>\n",
       "      <td>Shri Neelam Sanjiva Reddy (1913-1996)</td>\n",
       "      <td>25 July, 1977 to 25 July, 1982</td>\n",
       "    </tr>\n",
       "    <tr>\n",
       "      <th>9</th>\n",
       "      <td>Dr. Fakhruddin Ali Ahmed (1905-1977)</td>\n",
       "      <td>24 August, 1974 to 11 February, 1977</td>\n",
       "    </tr>\n",
       "    <tr>\n",
       "      <th>10</th>\n",
       "      <td>Shri Varahagiri Venkata Giri (1894-1980)</td>\n",
       "      <td>3 May, 1969 to 20 July, 1969 and 24 August, 1...</td>\n",
       "    </tr>\n",
       "    <tr>\n",
       "      <th>11</th>\n",
       "      <td>Dr. Zakir Husain (1897-1969)</td>\n",
       "      <td>13 May, 1967 to 3 May, 1969</td>\n",
       "    </tr>\n",
       "    <tr>\n",
       "      <th>12</th>\n",
       "      <td>Dr. Sarvepalli Radhakrishnan (1888-1975)</td>\n",
       "      <td>13 May, 1962 to 13 May, 1967</td>\n",
       "    </tr>\n",
       "    <tr>\n",
       "      <th>13</th>\n",
       "      <td>Dr. Rajendra Prasad (1884-1963)</td>\n",
       "      <td>26 January, 1950 to 13 May, 1962</td>\n",
       "    </tr>\n",
       "  </tbody>\n",
       "</table>\n",
       "</div>"
      ],
      "text/plain": [
       "                          Name of the president  \\\n",
       "0           Shri Ram Nath Kovind (birth - 1945)   \n",
       "1             Shri Pranab Mukherjee (1935-2020)   \n",
       "2   Smt Pratibha Devisingh Patil (birth - 1934)   \n",
       "3            DR. A.P.J. Abdul Kalam (1931-2015)   \n",
       "4            Shri K. R. Narayanan (1920 - 2005)   \n",
       "5           Dr Shankar Dayal Sharma (1918-1999)   \n",
       "6               Shri R Venkataraman (1910-2009)   \n",
       "7                  Giani Zail Singh (1916-1994)   \n",
       "8         Shri Neelam Sanjiva Reddy (1913-1996)   \n",
       "9          Dr. Fakhruddin Ali Ahmed (1905-1977)   \n",
       "10     Shri Varahagiri Venkata Giri (1894-1980)   \n",
       "11                 Dr. Zakir Husain (1897-1969)   \n",
       "12     Dr. Sarvepalli Radhakrishnan (1888-1975)   \n",
       "13             Dr. Rajendra Prasad (1884-1963)    \n",
       "\n",
       "                                       Term of office  \n",
       "0                     25 July, 2017 to 25 July, 2022   \n",
       "1                     25 July, 2012 to 25 July, 2017   \n",
       "2                     25 July, 2007 to 25 July, 2012   \n",
       "3                     25 July, 2002 to 25 July, 2007   \n",
       "4                     25 July, 1997 to 25 July, 2002   \n",
       "5                     25 July, 1992 to 25 July, 1997   \n",
       "6                     25 July, 1987 to 25 July, 1992   \n",
       "7                     25 July, 1982 to 25 July, 1987   \n",
       "8                     25 July, 1977 to 25 July, 1982   \n",
       "9                24 August, 1974 to 11 February, 1977  \n",
       "10   3 May, 1969 to 20 July, 1969 and 24 August, 1...  \n",
       "11                        13 May, 1967 to 3 May, 1969  \n",
       "12                       13 May, 1962 to 13 May, 1967  \n",
       "13                   26 January, 1950 to 13 May, 1962  "
      ]
     },
     "execution_count": 33,
     "metadata": {},
     "output_type": "execute_result"
    }
   ],
   "source": [
    "df = pd.DataFrame ({'Name of the president':names,'Term of office':terms})\n",
    "df"
   ]
  },
  {
   "cell_type": "markdown",
   "id": "3d02753f",
   "metadata": {},
   "source": [
    "# Question 3\n",
    "## a)"
   ]
  },
  {
   "cell_type": "code",
   "execution_count": 15,
   "id": "79eec9f1",
   "metadata": {},
   "outputs": [],
   "source": [
    "import requests\n",
    "from bs4 import BeautifulSoup"
   ]
  },
  {
   "cell_type": "code",
   "execution_count": 16,
   "id": "0c897de7",
   "metadata": {},
   "outputs": [],
   "source": [
    "url = \"https://www.icc-cricket.com/rankings/mens/team-rankings/odi\""
   ]
  },
  {
   "cell_type": "code",
   "execution_count": 17,
   "id": "3c2e844f",
   "metadata": {},
   "outputs": [],
   "source": [
    "page = requests.get(url)"
   ]
  },
  {
   "cell_type": "code",
   "execution_count": 18,
   "id": "c5b0ec85",
   "metadata": {},
   "outputs": [
    {
     "data": {
      "text/plain": [
       "<Response [200]>"
      ]
     },
     "execution_count": 18,
     "metadata": {},
     "output_type": "execute_result"
    }
   ],
   "source": [
    "page"
   ]
  },
  {
   "cell_type": "code",
   "execution_count": 19,
   "id": "d223e7ff",
   "metadata": {},
   "outputs": [],
   "source": [
    "soup = BeautifulSoup(page.content)"
   ]
  },
  {
   "cell_type": "code",
   "execution_count": 20,
   "id": "7fa6f003",
   "metadata": {},
   "outputs": [],
   "source": [
    "teams = []\n",
    "for i in soup.find_all(\"span\",class_=\"u-hide-phablet\"):\n",
    "    teams.append(i.text)"
   ]
  },
  {
   "cell_type": "code",
   "execution_count": 21,
   "id": "ee449de2",
   "metadata": {},
   "outputs": [
    {
     "data": {
      "text/plain": [
       "['Australia',\n",
       " 'Pakistan',\n",
       " 'India',\n",
       " 'New Zealand',\n",
       " 'England',\n",
       " 'South Africa',\n",
       " 'Bangladesh',\n",
       " 'Sri Lanka',\n",
       " 'Afghanistan',\n",
       " 'West Indies']"
      ]
     },
     "execution_count": 21,
     "metadata": {},
     "output_type": "execute_result"
    }
   ],
   "source": [
    "top_10_teams = teams[:10]\n",
    "\n",
    "top_10_teams\n",
    "    "
   ]
  },
  {
   "cell_type": "code",
   "execution_count": 22,
   "id": "f8c1ada9",
   "metadata": {},
   "outputs": [
    {
     "data": {
      "text/plain": [
       "['23']"
      ]
     },
     "execution_count": 22,
     "metadata": {},
     "output_type": "execute_result"
    }
   ],
   "source": [
    "match_1 = []\n",
    "for i in soup.find_all(\"td\",class_=\"rankings-block__banner--matches\"):\n",
    "    match_1.append(i.text)\n",
    "\n",
    "    \n",
    "match_1"
   ]
  },
  {
   "cell_type": "code",
   "execution_count": 23,
   "id": "6a37bf49",
   "metadata": {},
   "outputs": [],
   "source": [
    "match_rest = []\n",
    "for i in soup.find_all(\"td\",class_=\"table-body__cell u-center-text\"):\n",
    "    match_rest.append(i.text)"
   ]
  },
  {
   "cell_type": "code",
   "execution_count": 24,
   "id": "da184680",
   "metadata": {},
   "outputs": [
    {
     "name": "stdout",
     "output_type": "stream",
     "text": [
      "['20', '33', '27', '24', '19', '25', '28', '13', '32', '27', '30', '22', '38', '24', '29', '28', '21', '39', '28']\n"
     ]
    }
   ],
   "source": [
    "match_rest1 = [match_rest[i] for i in range(len(match_rest)) if i % 2 == 0]\n",
    "\n",
    "print(match_rest1)"
   ]
  },
  {
   "cell_type": "code",
   "execution_count": 25,
   "id": "899b6cb1",
   "metadata": {},
   "outputs": [
    {
     "data": {
      "text/plain": [
       "['20', '33', '27', '24', '19', '25', '28', '13', '32']"
      ]
     },
     "execution_count": 25,
     "metadata": {},
     "output_type": "execute_result"
    }
   ],
   "source": [
    "match_rest9 = match_rest1[:9]\n",
    "match_rest9"
   ]
  },
  {
   "cell_type": "code",
   "execution_count": 26,
   "id": "83e5ee76",
   "metadata": {},
   "outputs": [],
   "source": [
    "matches = match_1 + match_rest9"
   ]
  },
  {
   "cell_type": "code",
   "execution_count": 27,
   "id": "2d4eff06",
   "metadata": {},
   "outputs": [
    {
     "data": {
      "text/plain": [
       "['23', '20', '33', '27', '24', '19', '25', '28', '13', '32']"
      ]
     },
     "execution_count": 27,
     "metadata": {},
     "output_type": "execute_result"
    }
   ],
   "source": [
    "matches"
   ]
  },
  {
   "cell_type": "code",
   "execution_count": 28,
   "id": "4e5b1de7",
   "metadata": {},
   "outputs": [
    {
     "data": {
      "text/plain": [
       "['2,714']"
      ]
     },
     "execution_count": 28,
     "metadata": {},
     "output_type": "execute_result"
    }
   ],
   "source": [
    "point_1 = []\n",
    "for i in soup.find_all(\"td\",class_=\"rankings-block__banner--points\"):\n",
    "    point_1.append(i.text)\n",
    "\n",
    "    \n",
    "point_1"
   ]
  },
  {
   "cell_type": "code",
   "execution_count": 29,
   "id": "151e3872",
   "metadata": {},
   "outputs": [],
   "source": [
    "point_rest = []\n",
    "for i in soup.find_all(\"td\",class_=\"table-body__cell u-center-text\"):\n",
    "    point_rest.append(i.text)\n",
    "    \n",
    "point_rest1 = [point_rest[i] for i in range(len(point_rest)) if i % 2 != 0]\n",
    "\n",
    "point_rest9 = point_rest1[:9]\n",
    "\n",
    "points = point_1 + point_rest9\n",
    "    \n",
    "    \n"
   ]
  },
  {
   "cell_type": "code",
   "execution_count": 30,
   "id": "99b84eb7",
   "metadata": {},
   "outputs": [
    {
     "data": {
      "text/plain": [
       "['2,714',\n",
       " '2,316',\n",
       " '3,807',\n",
       " '2,806',\n",
       " '2,426',\n",
       " '1,910',\n",
       " '2,451',\n",
       " '2,378',\n",
       " '1,067',\n",
       " '2,201']"
      ]
     },
     "execution_count": 30,
     "metadata": {},
     "output_type": "execute_result"
    }
   ],
   "source": [
    "points"
   ]
  },
  {
   "cell_type": "code",
   "execution_count": 31,
   "id": "fe913791",
   "metadata": {},
   "outputs": [
    {
     "data": {
      "text/plain": [
       "['118']"
      ]
     },
     "execution_count": 31,
     "metadata": {},
     "output_type": "execute_result"
    }
   ],
   "source": [
    "rating_1 = []\n",
    "for i in soup.find_all(\"td\",class_=\"rankings-block__banner--rating u-text-right\"):\n",
    "    rating_1.append(i.text)\n",
    "    \n",
    "rating_1 = [element.strip() for element in rating_1]\n",
    "    \n",
    "rating_1\n",
    "\n"
   ]
  },
  {
   "cell_type": "code",
   "execution_count": 32,
   "id": "674e5be9",
   "metadata": {},
   "outputs": [],
   "source": [
    "rating_rest = []\n",
    "for i in soup.find_all(\"td\",class_=\"table-body__cell u-text-right rating\"):\n",
    "    rating_rest.append(i.text)\n",
    "    "
   ]
  },
  {
   "cell_type": "code",
   "execution_count": 33,
   "id": "33aec657",
   "metadata": {},
   "outputs": [
    {
     "data": {
      "text/plain": [
       "['116',\n",
       " '115',\n",
       " '104',\n",
       " '101',\n",
       " '101',\n",
       " '98',\n",
       " '85',\n",
       " '82',\n",
       " '69',\n",
       " '57',\n",
       " '48',\n",
       " '40',\n",
       " '35',\n",
       " '34',\n",
       " '29',\n",
       " '29',\n",
       " '25',\n",
       " '14',\n",
       " '4']"
      ]
     },
     "execution_count": 33,
     "metadata": {},
     "output_type": "execute_result"
    }
   ],
   "source": [
    "rating_rest"
   ]
  },
  {
   "cell_type": "code",
   "execution_count": 34,
   "id": "5415d509",
   "metadata": {},
   "outputs": [],
   "source": [
    "rating_rest9 = rating_rest[:9]\n",
    "\n"
   ]
  },
  {
   "cell_type": "code",
   "execution_count": 35,
   "id": "4a499274",
   "metadata": {},
   "outputs": [],
   "source": [
    "ratings = rating_1 + rating_rest9"
   ]
  },
  {
   "cell_type": "code",
   "execution_count": 36,
   "id": "cbcd2d44",
   "metadata": {},
   "outputs": [
    {
     "data": {
      "text/plain": [
       "['118', '116', '115', '104', '101', '101', '98', '85', '82', '69']"
      ]
     },
     "execution_count": 36,
     "metadata": {},
     "output_type": "execute_result"
    }
   ],
   "source": [
    "ratings"
   ]
  },
  {
   "cell_type": "code",
   "execution_count": 37,
   "id": "42742205",
   "metadata": {},
   "outputs": [],
   "source": [
    "import pandas as pd"
   ]
  },
  {
   "cell_type": "code",
   "execution_count": 38,
   "id": "fde4b06b",
   "metadata": {},
   "outputs": [
    {
     "data": {
      "text/html": [
       "<div>\n",
       "<style scoped>\n",
       "    .dataframe tbody tr th:only-of-type {\n",
       "        vertical-align: middle;\n",
       "    }\n",
       "\n",
       "    .dataframe tbody tr th {\n",
       "        vertical-align: top;\n",
       "    }\n",
       "\n",
       "    .dataframe thead th {\n",
       "        text-align: right;\n",
       "    }\n",
       "</style>\n",
       "<table border=\"1\" class=\"dataframe\">\n",
       "  <thead>\n",
       "    <tr style=\"text-align: right;\">\n",
       "      <th></th>\n",
       "      <th>Name of the team</th>\n",
       "      <th>Matches</th>\n",
       "      <th>Points</th>\n",
       "      <th>Rating</th>\n",
       "    </tr>\n",
       "  </thead>\n",
       "  <tbody>\n",
       "    <tr>\n",
       "      <th>0</th>\n",
       "      <td>Australia</td>\n",
       "      <td>23</td>\n",
       "      <td>2,714</td>\n",
       "      <td>118</td>\n",
       "    </tr>\n",
       "    <tr>\n",
       "      <th>1</th>\n",
       "      <td>Pakistan</td>\n",
       "      <td>20</td>\n",
       "      <td>2,316</td>\n",
       "      <td>116</td>\n",
       "    </tr>\n",
       "    <tr>\n",
       "      <th>2</th>\n",
       "      <td>India</td>\n",
       "      <td>33</td>\n",
       "      <td>3,807</td>\n",
       "      <td>115</td>\n",
       "    </tr>\n",
       "    <tr>\n",
       "      <th>3</th>\n",
       "      <td>New Zealand</td>\n",
       "      <td>27</td>\n",
       "      <td>2,806</td>\n",
       "      <td>104</td>\n",
       "    </tr>\n",
       "    <tr>\n",
       "      <th>4</th>\n",
       "      <td>England</td>\n",
       "      <td>24</td>\n",
       "      <td>2,426</td>\n",
       "      <td>101</td>\n",
       "    </tr>\n",
       "    <tr>\n",
       "      <th>5</th>\n",
       "      <td>South Africa</td>\n",
       "      <td>19</td>\n",
       "      <td>1,910</td>\n",
       "      <td>101</td>\n",
       "    </tr>\n",
       "    <tr>\n",
       "      <th>6</th>\n",
       "      <td>Bangladesh</td>\n",
       "      <td>25</td>\n",
       "      <td>2,451</td>\n",
       "      <td>98</td>\n",
       "    </tr>\n",
       "    <tr>\n",
       "      <th>7</th>\n",
       "      <td>Sri Lanka</td>\n",
       "      <td>28</td>\n",
       "      <td>2,378</td>\n",
       "      <td>85</td>\n",
       "    </tr>\n",
       "    <tr>\n",
       "      <th>8</th>\n",
       "      <td>Afghanistan</td>\n",
       "      <td>13</td>\n",
       "      <td>1,067</td>\n",
       "      <td>82</td>\n",
       "    </tr>\n",
       "    <tr>\n",
       "      <th>9</th>\n",
       "      <td>West Indies</td>\n",
       "      <td>32</td>\n",
       "      <td>2,201</td>\n",
       "      <td>69</td>\n",
       "    </tr>\n",
       "  </tbody>\n",
       "</table>\n",
       "</div>"
      ],
      "text/plain": [
       "  Name of the team Matches Points Rating\n",
       "0        Australia      23  2,714    118\n",
       "1         Pakistan      20  2,316    116\n",
       "2            India      33  3,807    115\n",
       "3      New Zealand      27  2,806    104\n",
       "4          England      24  2,426    101\n",
       "5     South Africa      19  1,910    101\n",
       "6       Bangladesh      25  2,451     98\n",
       "7        Sri Lanka      28  2,378     85\n",
       "8      Afghanistan      13  1,067     82\n",
       "9      West Indies      32  2,201     69"
      ]
     },
     "execution_count": 38,
     "metadata": {},
     "output_type": "execute_result"
    }
   ],
   "source": [
    "df = pd.DataFrame({'Name of the team':top_10_teams,'Matches':matches,'Points':points,'Rating':ratings})\n",
    "\n",
    "df"
   ]
  },
  {
   "cell_type": "markdown",
   "id": "6a259d95",
   "metadata": {},
   "source": [
    "## b)"
   ]
  },
  {
   "cell_type": "code",
   "execution_count": 39,
   "id": "d6137321",
   "metadata": {},
   "outputs": [],
   "source": [
    "import requests\n",
    "from bs4 import BeautifulSoup"
   ]
  },
  {
   "cell_type": "code",
   "execution_count": 40,
   "id": "7fd707f2",
   "metadata": {},
   "outputs": [],
   "source": [
    "url = \"https://www.icc-cricket.com/rankings/mens/player-rankings/odi/batting\""
   ]
  },
  {
   "cell_type": "code",
   "execution_count": 41,
   "id": "b1a2d0d6",
   "metadata": {},
   "outputs": [
    {
     "data": {
      "text/plain": [
       "<Response [200]>"
      ]
     },
     "execution_count": 41,
     "metadata": {},
     "output_type": "execute_result"
    }
   ],
   "source": [
    "page = requests.get(url)\n",
    "\n",
    "page\n"
   ]
  },
  {
   "cell_type": "code",
   "execution_count": 42,
   "id": "167bae17",
   "metadata": {},
   "outputs": [],
   "source": [
    "soup = BeautifulSoup(page.content)"
   ]
  },
  {
   "cell_type": "code",
   "execution_count": 43,
   "id": "2405b29a",
   "metadata": {},
   "outputs": [],
   "source": [
    "batsman_1 = []\n",
    "for i in soup.find_all(\"div\",class_=\"rankings-block__banner--name-large\"):\n",
    "    batsman_1.append(i.text)\n",
    "    "
   ]
  },
  {
   "cell_type": "code",
   "execution_count": 44,
   "id": "7005fe6a",
   "metadata": {},
   "outputs": [
    {
     "data": {
      "text/plain": [
       "['Babar Azam']"
      ]
     },
     "execution_count": 44,
     "metadata": {},
     "output_type": "execute_result"
    }
   ],
   "source": [
    "batsman_1"
   ]
  },
  {
   "cell_type": "code",
   "execution_count": 45,
   "id": "b38ffc4f",
   "metadata": {},
   "outputs": [],
   "source": [
    "batsmen_rest = []\n",
    "for i in soup.find_all(\"td\",class_=\"table-body__cell rankings-table__name name\"):\n",
    "    batsmen_rest.append(i.text)"
   ]
  },
  {
   "cell_type": "code",
   "execution_count": 46,
   "id": "b8c71679",
   "metadata": {},
   "outputs": [],
   "source": [
    "batsmen_rest9 = batsmen_rest[:9]"
   ]
  },
  {
   "cell_type": "code",
   "execution_count": 47,
   "id": "cae52dd2",
   "metadata": {},
   "outputs": [],
   "source": [
    "batsmen_rest9 = [element.strip()for element in batsmen_rest9]"
   ]
  },
  {
   "cell_type": "code",
   "execution_count": 48,
   "id": "1d06ddd5",
   "metadata": {},
   "outputs": [],
   "source": [
    "batsmen = batsman_1 + batsmen_rest9"
   ]
  },
  {
   "cell_type": "code",
   "execution_count": 49,
   "id": "dda72fef",
   "metadata": {},
   "outputs": [
    {
     "data": {
      "text/plain": [
       "['Babar Azam',\n",
       " 'Rassie van der Dussen',\n",
       " 'Fakhar Zaman',\n",
       " 'Imam-ul-Haq',\n",
       " 'Shubman Gill',\n",
       " 'Harry Tector',\n",
       " 'David Warner',\n",
       " 'Virat Kohli',\n",
       " 'Quinton de Kock',\n",
       " 'Rohit Sharma']"
      ]
     },
     "execution_count": 49,
     "metadata": {},
     "output_type": "execute_result"
    }
   ],
   "source": [
    "batsmen"
   ]
  },
  {
   "cell_type": "code",
   "execution_count": 50,
   "id": "2a595592",
   "metadata": {},
   "outputs": [],
   "source": [
    "team_1 = []\n",
    "for i in soup.find_all(\"div\",class_=\"rankings-block__banner--nationality\"):\n",
    "    team_1.append(i.text)\n",
    "    \n",
    "team_1 = [element.strip() for element in team_1]"
   ]
  },
  {
   "cell_type": "code",
   "execution_count": 51,
   "id": "1fc90692",
   "metadata": {},
   "outputs": [
    {
     "data": {
      "text/plain": [
       "['PAK']"
      ]
     },
     "execution_count": 51,
     "metadata": {},
     "output_type": "execute_result"
    }
   ],
   "source": [
    "team_1"
   ]
  },
  {
   "cell_type": "code",
   "execution_count": 52,
   "id": "942b187d",
   "metadata": {},
   "outputs": [],
   "source": [
    "team_rest = []\n",
    "for i in soup.find_all(\"span\",class_=\"table-body__logo-text\"):\n",
    "    team_rest.append(i.text)"
   ]
  },
  {
   "cell_type": "code",
   "execution_count": 53,
   "id": "1bf4869f",
   "metadata": {},
   "outputs": [],
   "source": [
    "team_rest9 = team_rest[:9]"
   ]
  },
  {
   "cell_type": "code",
   "execution_count": 54,
   "id": "1558162a",
   "metadata": {},
   "outputs": [],
   "source": [
    "teams = team_1 + team_rest9"
   ]
  },
  {
   "cell_type": "code",
   "execution_count": 55,
   "id": "eb8ac7a6",
   "metadata": {},
   "outputs": [
    {
     "data": {
      "text/plain": [
       "['PAK', 'SA', 'PAK', 'PAK', 'IND', 'IRE', 'AUS', 'IND', 'SA', 'IND']"
      ]
     },
     "execution_count": 55,
     "metadata": {},
     "output_type": "execute_result"
    }
   ],
   "source": [
    "teams"
   ]
  },
  {
   "cell_type": "code",
   "execution_count": 56,
   "id": "1a66aeb1",
   "metadata": {},
   "outputs": [],
   "source": [
    "rating_1 = []\n",
    "for i in soup.find_all(\"div\",class_=\"rankings-block__banner--rating\"):\n",
    "    rating_1.append(i.text)"
   ]
  },
  {
   "cell_type": "code",
   "execution_count": 127,
   "id": "7c6c53a8",
   "metadata": {},
   "outputs": [
    {
     "data": {
      "text/plain": [
       "['886']"
      ]
     },
     "execution_count": 127,
     "metadata": {},
     "output_type": "execute_result"
    }
   ],
   "source": [
    "rating_1"
   ]
  },
  {
   "cell_type": "code",
   "execution_count": 128,
   "id": "97a2383b",
   "metadata": {},
   "outputs": [],
   "source": [
    "rating_rest = []\n",
    "for i in soup.find_all(\"td\",class_=\"table-body__cell rating\"):\n",
    "    rating_rest.append(i.text)"
   ]
  },
  {
   "cell_type": "code",
   "execution_count": 131,
   "id": "8658350d",
   "metadata": {},
   "outputs": [],
   "source": [
    "rating_rest9 = rating_rest[:9]\n",
    "rating = rating_1 + rating_rest9"
   ]
  },
  {
   "cell_type": "code",
   "execution_count": 132,
   "id": "3f48fe76",
   "metadata": {},
   "outputs": [
    {
     "data": {
      "text/plain": [
       "['886', '777', '755', '745', '738', '726', '726', '719', '718', '707']"
      ]
     },
     "execution_count": 132,
     "metadata": {},
     "output_type": "execute_result"
    }
   ],
   "source": [
    "rating"
   ]
  },
  {
   "cell_type": "code",
   "execution_count": 133,
   "id": "7969f333",
   "metadata": {},
   "outputs": [],
   "source": [
    "import pandas as pd"
   ]
  },
  {
   "cell_type": "code",
   "execution_count": 134,
   "id": "08f7128c",
   "metadata": {},
   "outputs": [
    {
     "data": {
      "text/html": [
       "<div>\n",
       "<style scoped>\n",
       "    .dataframe tbody tr th:only-of-type {\n",
       "        vertical-align: middle;\n",
       "    }\n",
       "\n",
       "    .dataframe tbody tr th {\n",
       "        vertical-align: top;\n",
       "    }\n",
       "\n",
       "    .dataframe thead th {\n",
       "        text-align: right;\n",
       "    }\n",
       "</style>\n",
       "<table border=\"1\" class=\"dataframe\">\n",
       "  <thead>\n",
       "    <tr style=\"text-align: right;\">\n",
       "      <th></th>\n",
       "      <th>Batsmen</th>\n",
       "      <th>Teams</th>\n",
       "      <th>Rating</th>\n",
       "    </tr>\n",
       "  </thead>\n",
       "  <tbody>\n",
       "    <tr>\n",
       "      <th>0</th>\n",
       "      <td>Babar Azam</td>\n",
       "      <td>PAK</td>\n",
       "      <td>118</td>\n",
       "    </tr>\n",
       "    <tr>\n",
       "      <th>1</th>\n",
       "      <td>Rassie van der Dussen</td>\n",
       "      <td>SA</td>\n",
       "      <td>116</td>\n",
       "    </tr>\n",
       "    <tr>\n",
       "      <th>2</th>\n",
       "      <td>Fakhar Zaman</td>\n",
       "      <td>PAK</td>\n",
       "      <td>115</td>\n",
       "    </tr>\n",
       "    <tr>\n",
       "      <th>3</th>\n",
       "      <td>Imam-ul-Haq</td>\n",
       "      <td>PAK</td>\n",
       "      <td>104</td>\n",
       "    </tr>\n",
       "    <tr>\n",
       "      <th>4</th>\n",
       "      <td>Shubman Gill</td>\n",
       "      <td>IND</td>\n",
       "      <td>101</td>\n",
       "    </tr>\n",
       "    <tr>\n",
       "      <th>5</th>\n",
       "      <td>Harry Tector</td>\n",
       "      <td>IRE</td>\n",
       "      <td>101</td>\n",
       "    </tr>\n",
       "    <tr>\n",
       "      <th>6</th>\n",
       "      <td>David Warner</td>\n",
       "      <td>AUS</td>\n",
       "      <td>98</td>\n",
       "    </tr>\n",
       "    <tr>\n",
       "      <th>7</th>\n",
       "      <td>Virat Kohli</td>\n",
       "      <td>IND</td>\n",
       "      <td>85</td>\n",
       "    </tr>\n",
       "    <tr>\n",
       "      <th>8</th>\n",
       "      <td>Quinton de Kock</td>\n",
       "      <td>SA</td>\n",
       "      <td>82</td>\n",
       "    </tr>\n",
       "    <tr>\n",
       "      <th>9</th>\n",
       "      <td>Rohit Sharma</td>\n",
       "      <td>IND</td>\n",
       "      <td>69</td>\n",
       "    </tr>\n",
       "  </tbody>\n",
       "</table>\n",
       "</div>"
      ],
      "text/plain": [
       "                 Batsmen Teams Rating\n",
       "0             Babar Azam   PAK    118\n",
       "1  Rassie van der Dussen    SA    116\n",
       "2           Fakhar Zaman   PAK    115\n",
       "3            Imam-ul-Haq   PAK    104\n",
       "4           Shubman Gill   IND    101\n",
       "5           Harry Tector   IRE    101\n",
       "6           David Warner   AUS     98\n",
       "7            Virat Kohli   IND     85\n",
       "8        Quinton de Kock    SA     82\n",
       "9           Rohit Sharma   IND     69"
      ]
     },
     "execution_count": 134,
     "metadata": {},
     "output_type": "execute_result"
    }
   ],
   "source": [
    "df = pd.DataFrame({\"Batsmen\":batsmen,\"Teams\":teams,\"Rating\":ratings})\n",
    "df"
   ]
  },
  {
   "cell_type": "markdown",
   "id": "1a08641d",
   "metadata": {},
   "source": [
    "# c)"
   ]
  },
  {
   "cell_type": "code",
   "execution_count": 58,
   "id": "3bf54dda",
   "metadata": {},
   "outputs": [],
   "source": [
    "import requests as requests\n",
    "from bs4 import BeautifulSoup"
   ]
  },
  {
   "cell_type": "code",
   "execution_count": 59,
   "id": "2831ad33",
   "metadata": {},
   "outputs": [],
   "source": [
    "url = \"https://www.icc-cricket.com/rankings/mens/player-rankings/odi/bowling\""
   ]
  },
  {
   "cell_type": "code",
   "execution_count": 60,
   "id": "9453bebb",
   "metadata": {},
   "outputs": [],
   "source": [
    "page = requests.get(url)"
   ]
  },
  {
   "cell_type": "code",
   "execution_count": 61,
   "id": "4d71591f",
   "metadata": {},
   "outputs": [
    {
     "data": {
      "text/plain": [
       "<Response [200]>"
      ]
     },
     "execution_count": 61,
     "metadata": {},
     "output_type": "execute_result"
    }
   ],
   "source": [
    "page"
   ]
  },
  {
   "cell_type": "code",
   "execution_count": 62,
   "id": "d6a8453d",
   "metadata": {},
   "outputs": [],
   "source": [
    "soup = BeautifulSoup(page.content)"
   ]
  },
  {
   "cell_type": "code",
   "execution_count": 146,
   "id": "6ffb9249",
   "metadata": {},
   "outputs": [],
   "source": [
    "bowler_1 = []\n",
    "for i in soup.find_all(\"div\",class_=\"rankings-block__banner--name-large\"):\n",
    "    bowler_1.append(i.text)"
   ]
  },
  {
   "cell_type": "code",
   "execution_count": 147,
   "id": "e5cd9566",
   "metadata": {},
   "outputs": [
    {
     "data": {
      "text/plain": [
       "['Josh Hazlewood']"
      ]
     },
     "execution_count": 147,
     "metadata": {},
     "output_type": "execute_result"
    }
   ],
   "source": [
    "bowler_1"
   ]
  },
  {
   "cell_type": "code",
   "execution_count": 154,
   "id": "956bfd14",
   "metadata": {},
   "outputs": [],
   "source": [
    "bowler_rest =[]\n",
    "for i in soup.find_all(\"td\",class_=\"table-body__cell rankings-table__name name\"):\n",
    "    bowler_rest.append(i.text)\n",
    "    \n",
    "bowler_rest = [elements.strip() for elements in bowler_rest]\n",
    "\n",
    "bowler_rest9 = bowler_rest[:9]\n",
    "\n",
    "bowlers = bowler_1 + bowler_rest9"
   ]
  },
  {
   "cell_type": "code",
   "execution_count": 155,
   "id": "c4a85390",
   "metadata": {},
   "outputs": [
    {
     "data": {
      "text/plain": [
       "['Josh Hazlewood',\n",
       " 'Mohammed Siraj',\n",
       " 'Mitchell Starc',\n",
       " 'Matt Henry',\n",
       " 'Trent Boult',\n",
       " 'Adam Zampa',\n",
       " 'Rashid Khan',\n",
       " 'Shaheen Afridi',\n",
       " 'Mujeeb Ur Rahman',\n",
       " 'Mohammad Nabi']"
      ]
     },
     "execution_count": 155,
     "metadata": {},
     "output_type": "execute_result"
    }
   ],
   "source": [
    "bowlers"
   ]
  },
  {
   "cell_type": "code",
   "execution_count": 157,
   "id": "e52affb0",
   "metadata": {},
   "outputs": [
    {
     "data": {
      "text/plain": [
       "['\\n\\nAUS\\n                    ']"
      ]
     },
     "execution_count": 157,
     "metadata": {},
     "output_type": "execute_result"
    }
   ],
   "source": [
    "team_1 = []\n",
    "for i in soup.find_all(\"div\",class_=\"rankings-block__banner--nationality\"):\n",
    "    team_1.append(i.text)\n",
    "team_1"
   ]
  },
  {
   "cell_type": "code",
   "execution_count": 158,
   "id": "e803e183",
   "metadata": {},
   "outputs": [],
   "source": [
    "team_1 = [elements.strip()for elements in team_1]"
   ]
  },
  {
   "cell_type": "code",
   "execution_count": 159,
   "id": "ecdb063d",
   "metadata": {},
   "outputs": [
    {
     "data": {
      "text/plain": [
       "['AUS']"
      ]
     },
     "execution_count": 159,
     "metadata": {},
     "output_type": "execute_result"
    }
   ],
   "source": [
    "team_1"
   ]
  },
  {
   "cell_type": "code",
   "execution_count": 162,
   "id": "b4a4d46b",
   "metadata": {},
   "outputs": [],
   "source": [
    "team_rest = []\n",
    "for i in soup.find_all(\"span\",class_=\"table-body__logo-text\"):\n",
    "    team_rest.append(i.text)\n",
    "\n",
    "team_rest9 = team_rest[:9]\n",
    "teams = team_1 + team_rest9"
   ]
  },
  {
   "cell_type": "code",
   "execution_count": 163,
   "id": "0b6ff8bd",
   "metadata": {},
   "outputs": [
    {
     "data": {
      "text/plain": [
       "['AUS', 'IND', 'AUS', 'NZ', 'NZ', 'AUS', 'AFG', 'PAK', 'AFG', 'AFG']"
      ]
     },
     "execution_count": 163,
     "metadata": {},
     "output_type": "execute_result"
    }
   ],
   "source": [
    "teams"
   ]
  },
  {
   "cell_type": "code",
   "execution_count": 166,
   "id": "8ca633b1",
   "metadata": {},
   "outputs": [],
   "source": [
    "rating_1 = []\n",
    "for i in soup.find_all(\"div\",class_=\"rankings-block__banner--rating\"):\n",
    "    rating_1.append(i.text)"
   ]
  },
  {
   "cell_type": "code",
   "execution_count": 167,
   "id": "eb9ddefa",
   "metadata": {},
   "outputs": [
    {
     "data": {
      "text/plain": [
       "['705']"
      ]
     },
     "execution_count": 167,
     "metadata": {},
     "output_type": "execute_result"
    }
   ],
   "source": [
    "rating_1"
   ]
  },
  {
   "cell_type": "code",
   "execution_count": 169,
   "id": "eb24ad3e",
   "metadata": {},
   "outputs": [],
   "source": [
    "rating_rest = []\n",
    "for i in soup.find_all(\"td\",class_=\"table-body__cell rating\"):\n",
    "    rating_rest.append(i.text)\n",
    "\n",
    "rating_rest9 = rating_rest[:9]\n",
    "\n",
    "rating = rating_1 + rating_rest9"
   ]
  },
  {
   "cell_type": "code",
   "execution_count": 170,
   "id": "35afaeaa",
   "metadata": {},
   "outputs": [
    {
     "data": {
      "text/plain": [
       "['705', '691', '686', '667', '660', '652', '640', '630', '630', '626']"
      ]
     },
     "execution_count": 170,
     "metadata": {},
     "output_type": "execute_result"
    }
   ],
   "source": [
    "rating"
   ]
  },
  {
   "cell_type": "code",
   "execution_count": 171,
   "id": "586461a1",
   "metadata": {},
   "outputs": [],
   "source": [
    "import pandas as pd"
   ]
  },
  {
   "cell_type": "code",
   "execution_count": 172,
   "id": "981403cc",
   "metadata": {},
   "outputs": [
    {
     "data": {
      "text/html": [
       "<div>\n",
       "<style scoped>\n",
       "    .dataframe tbody tr th:only-of-type {\n",
       "        vertical-align: middle;\n",
       "    }\n",
       "\n",
       "    .dataframe tbody tr th {\n",
       "        vertical-align: top;\n",
       "    }\n",
       "\n",
       "    .dataframe thead th {\n",
       "        text-align: right;\n",
       "    }\n",
       "</style>\n",
       "<table border=\"1\" class=\"dataframe\">\n",
       "  <thead>\n",
       "    <tr style=\"text-align: right;\">\n",
       "      <th></th>\n",
       "      <th>Bowlers</th>\n",
       "      <th>Teams</th>\n",
       "      <th>Rating</th>\n",
       "    </tr>\n",
       "  </thead>\n",
       "  <tbody>\n",
       "    <tr>\n",
       "      <th>0</th>\n",
       "      <td>Josh Hazlewood</td>\n",
       "      <td>AUS</td>\n",
       "      <td>705</td>\n",
       "    </tr>\n",
       "    <tr>\n",
       "      <th>1</th>\n",
       "      <td>Mohammed Siraj</td>\n",
       "      <td>IND</td>\n",
       "      <td>691</td>\n",
       "    </tr>\n",
       "    <tr>\n",
       "      <th>2</th>\n",
       "      <td>Mitchell Starc</td>\n",
       "      <td>AUS</td>\n",
       "      <td>686</td>\n",
       "    </tr>\n",
       "    <tr>\n",
       "      <th>3</th>\n",
       "      <td>Matt Henry</td>\n",
       "      <td>NZ</td>\n",
       "      <td>667</td>\n",
       "    </tr>\n",
       "    <tr>\n",
       "      <th>4</th>\n",
       "      <td>Trent Boult</td>\n",
       "      <td>NZ</td>\n",
       "      <td>660</td>\n",
       "    </tr>\n",
       "    <tr>\n",
       "      <th>5</th>\n",
       "      <td>Adam Zampa</td>\n",
       "      <td>AUS</td>\n",
       "      <td>652</td>\n",
       "    </tr>\n",
       "    <tr>\n",
       "      <th>6</th>\n",
       "      <td>Rashid Khan</td>\n",
       "      <td>AFG</td>\n",
       "      <td>640</td>\n",
       "    </tr>\n",
       "    <tr>\n",
       "      <th>7</th>\n",
       "      <td>Shaheen Afridi</td>\n",
       "      <td>PAK</td>\n",
       "      <td>630</td>\n",
       "    </tr>\n",
       "    <tr>\n",
       "      <th>8</th>\n",
       "      <td>Mujeeb Ur Rahman</td>\n",
       "      <td>AFG</td>\n",
       "      <td>630</td>\n",
       "    </tr>\n",
       "    <tr>\n",
       "      <th>9</th>\n",
       "      <td>Mohammad Nabi</td>\n",
       "      <td>AFG</td>\n",
       "      <td>626</td>\n",
       "    </tr>\n",
       "  </tbody>\n",
       "</table>\n",
       "</div>"
      ],
      "text/plain": [
       "            Bowlers Teams Rating\n",
       "0    Josh Hazlewood   AUS    705\n",
       "1    Mohammed Siraj   IND    691\n",
       "2    Mitchell Starc   AUS    686\n",
       "3        Matt Henry    NZ    667\n",
       "4       Trent Boult    NZ    660\n",
       "5        Adam Zampa   AUS    652\n",
       "6       Rashid Khan   AFG    640\n",
       "7    Shaheen Afridi   PAK    630\n",
       "8  Mujeeb Ur Rahman   AFG    630\n",
       "9     Mohammad Nabi   AFG    626"
      ]
     },
     "execution_count": 172,
     "metadata": {},
     "output_type": "execute_result"
    }
   ],
   "source": [
    "df = pd.DataFrame({\"Bowlers\":bowlers,\"Teams\":teams,\"Rating\":rating})\n",
    "df"
   ]
  },
  {
   "cell_type": "markdown",
   "id": "d1289a24",
   "metadata": {},
   "source": [
    "# Question 4\n",
    "\n",
    "## a)"
   ]
  },
  {
   "cell_type": "code",
   "execution_count": 63,
   "id": "d48c1ab1",
   "metadata": {},
   "outputs": [],
   "source": [
    "import requests as requests\n",
    "from bs4 import BeautifulSoup"
   ]
  },
  {
   "cell_type": "code",
   "execution_count": 64,
   "id": "af3ed579",
   "metadata": {},
   "outputs": [],
   "source": [
    "url = \"https://www.icc-cricket.com/rankings/womens/team-rankings/odi\""
   ]
  },
  {
   "cell_type": "code",
   "execution_count": 65,
   "id": "e6bb0a61",
   "metadata": {},
   "outputs": [
    {
     "data": {
      "text/plain": [
       "<Response [200]>"
      ]
     },
     "execution_count": 65,
     "metadata": {},
     "output_type": "execute_result"
    }
   ],
   "source": [
    "page = requests.get(url)\n",
    "page"
   ]
  },
  {
   "cell_type": "code",
   "execution_count": 66,
   "id": "dd08b99c",
   "metadata": {},
   "outputs": [],
   "source": [
    "soup = BeautifulSoup(page.content)"
   ]
  },
  {
   "cell_type": "code",
   "execution_count": 200,
   "id": "e9705832",
   "metadata": {},
   "outputs": [],
   "source": [
    "team_all = []\n",
    "for i in soup.find_all(\"span\",class_=\"u-hide-phablet\"):\n",
    "    team_all.append(i.text)\n",
    "    \n",
    "teams = team_all[:10]"
   ]
  },
  {
   "cell_type": "code",
   "execution_count": 201,
   "id": "2f033fc9",
   "metadata": {},
   "outputs": [
    {
     "data": {
      "text/plain": [
       "['Australia',\n",
       " 'England',\n",
       " 'South Africa',\n",
       " 'India',\n",
       " 'New Zealand',\n",
       " 'West Indies',\n",
       " 'Bangladesh',\n",
       " 'Sri Lanka',\n",
       " 'Thailand',\n",
       " 'Pakistan']"
      ]
     },
     "execution_count": 201,
     "metadata": {},
     "output_type": "execute_result"
    }
   ],
   "source": [
    "teams"
   ]
  },
  {
   "cell_type": "code",
   "execution_count": 202,
   "id": "82fe69c2",
   "metadata": {},
   "outputs": [],
   "source": [
    "match_1 = []\n",
    "for i in soup.find_all(\"td\",class_=\"rankings-block__banner--matches\"):\n",
    "    match_1.append(i.text)"
   ]
  },
  {
   "cell_type": "code",
   "execution_count": 203,
   "id": "f7e67590",
   "metadata": {},
   "outputs": [
    {
     "data": {
      "text/plain": [
       "['21']"
      ]
     },
     "execution_count": 203,
     "metadata": {},
     "output_type": "execute_result"
    }
   ],
   "source": [
    "match_1"
   ]
  },
  {
   "cell_type": "code",
   "execution_count": 209,
   "id": "656c5c97",
   "metadata": {},
   "outputs": [],
   "source": [
    "match_Rest =[]\n",
    "for i in soup.find_all(\"td\",class_=\"table-body__cell u-center-text\"):\n",
    "    match_rest.append(i.text)\n",
    "\n",
    "match_rest1 = [match_rest[i] for i in range(len(match_rest)) if i % 2 == 0]\n",
    "\n",
    "match_rest9 = match_rest1[:9]\n"
   ]
  },
  {
   "cell_type": "code",
   "execution_count": 210,
   "id": "6b83e064",
   "metadata": {},
   "outputs": [],
   "source": [
    "matches = match_1 + match_rest9"
   ]
  },
  {
   "cell_type": "code",
   "execution_count": 211,
   "id": "cd07ee1e",
   "metadata": {},
   "outputs": [
    {
     "data": {
      "text/plain": [
       "['21', '20', '33', '27', '24', '19', '25', '28', '13', '32']"
      ]
     },
     "execution_count": 211,
     "metadata": {},
     "output_type": "execute_result"
    }
   ],
   "source": [
    "matches"
   ]
  },
  {
   "cell_type": "code",
   "execution_count": 212,
   "id": "17042f99",
   "metadata": {},
   "outputs": [],
   "source": [
    "point_1 = []\n",
    "for i in soup.find_all(\"td\",class_=\"rankings-block__banner--points\"):\n",
    "    point_1.append(i.text)"
   ]
  },
  {
   "cell_type": "code",
   "execution_count": 213,
   "id": "e1d87378",
   "metadata": {},
   "outputs": [
    {
     "data": {
      "text/plain": [
       "['3,603']"
      ]
     },
     "execution_count": 213,
     "metadata": {},
     "output_type": "execute_result"
    }
   ],
   "source": [
    "point_1"
   ]
  },
  {
   "cell_type": "code",
   "execution_count": 215,
   "id": "ff7f2a44",
   "metadata": {},
   "outputs": [],
   "source": [
    "point_rest = []\n",
    "for i in soup.find_all(\"td\",class_=\"table-body__cell u-center-text\"):\n",
    "    point_rest.append(i.text)\n",
    "\n",
    "point_rest1 = [point_rest[i]for i in range(len(point_rest))if i % 2 != 0]\n",
    "\n",
    "point_rest9 = point_rest1[:9]\n",
    "\n",
    "points = point_1 + point_rest9"
   ]
  },
  {
   "cell_type": "code",
   "execution_count": 216,
   "id": "1c8f21b9",
   "metadata": {},
   "outputs": [
    {
     "data": {
      "text/plain": [
       "['3,603',\n",
       " '3,342',\n",
       " '3,098',\n",
       " '2,820',\n",
       " '2,688',\n",
       " '2,743',\n",
       " '977',\n",
       " '820',\n",
       " '806',\n",
       " '1,678']"
      ]
     },
     "execution_count": 216,
     "metadata": {},
     "output_type": "execute_result"
    }
   ],
   "source": [
    "points"
   ]
  },
  {
   "cell_type": "code",
   "execution_count": 218,
   "id": "f04cf117",
   "metadata": {},
   "outputs": [
    {
     "data": {
      "text/plain": [
       "['\\n                            172\\n                            \\n\\n']"
      ]
     },
     "execution_count": 218,
     "metadata": {},
     "output_type": "execute_result"
    }
   ],
   "source": [
    "rating_1 = []\n",
    "for i in soup.find_all(\"td\",class_=\"rankings-block__banner--rating u-text-right\"):\n",
    "    rating_1.append(i.text)\n",
    "rating_1"
   ]
  },
  {
   "cell_type": "code",
   "execution_count": 220,
   "id": "fc3627c3",
   "metadata": {},
   "outputs": [],
   "source": [
    "rating_1 = [elements.strip()for elements in rating_1]"
   ]
  },
  {
   "cell_type": "code",
   "execution_count": 221,
   "id": "836deb0a",
   "metadata": {},
   "outputs": [
    {
     "data": {
      "text/plain": [
       "['172']"
      ]
     },
     "execution_count": 221,
     "metadata": {},
     "output_type": "execute_result"
    }
   ],
   "source": [
    "rating_1"
   ]
  },
  {
   "cell_type": "code",
   "execution_count": 223,
   "id": "0f12f6bf",
   "metadata": {},
   "outputs": [],
   "source": [
    "rating_rest = []\n",
    "for i in soup.find_all(\"td\",class_=\"table-body__cell u-text-right rating\"):\n",
    "    rating_rest.append(i.text)\n",
    "\n",
    "rating_rest9 = rating_rest[:9]\n",
    "rating = rating_1 + rating_rest9"
   ]
  },
  {
   "cell_type": "code",
   "execution_count": 224,
   "id": "122a3af7",
   "metadata": {},
   "outputs": [
    {
     "data": {
      "text/plain": [
       "['172', '119', '119', '104', '96', '95', '70', '68', '67', '62']"
      ]
     },
     "execution_count": 224,
     "metadata": {},
     "output_type": "execute_result"
    }
   ],
   "source": [
    "rating"
   ]
  },
  {
   "cell_type": "code",
   "execution_count": 225,
   "id": "dcfd4f37",
   "metadata": {},
   "outputs": [],
   "source": [
    "import pandas as pd"
   ]
  },
  {
   "cell_type": "code",
   "execution_count": 226,
   "id": "c03d8d8e",
   "metadata": {},
   "outputs": [
    {
     "data": {
      "text/html": [
       "<div>\n",
       "<style scoped>\n",
       "    .dataframe tbody tr th:only-of-type {\n",
       "        vertical-align: middle;\n",
       "    }\n",
       "\n",
       "    .dataframe tbody tr th {\n",
       "        vertical-align: top;\n",
       "    }\n",
       "\n",
       "    .dataframe thead th {\n",
       "        text-align: right;\n",
       "    }\n",
       "</style>\n",
       "<table border=\"1\" class=\"dataframe\">\n",
       "  <thead>\n",
       "    <tr style=\"text-align: right;\">\n",
       "      <th></th>\n",
       "      <th>Teams</th>\n",
       "      <th>Matches</th>\n",
       "      <th>Points</th>\n",
       "      <th>Rating</th>\n",
       "    </tr>\n",
       "  </thead>\n",
       "  <tbody>\n",
       "    <tr>\n",
       "      <th>0</th>\n",
       "      <td>Australia</td>\n",
       "      <td>21</td>\n",
       "      <td>3,603</td>\n",
       "      <td>172</td>\n",
       "    </tr>\n",
       "    <tr>\n",
       "      <th>1</th>\n",
       "      <td>England</td>\n",
       "      <td>20</td>\n",
       "      <td>3,342</td>\n",
       "      <td>119</td>\n",
       "    </tr>\n",
       "    <tr>\n",
       "      <th>2</th>\n",
       "      <td>South Africa</td>\n",
       "      <td>33</td>\n",
       "      <td>3,098</td>\n",
       "      <td>119</td>\n",
       "    </tr>\n",
       "    <tr>\n",
       "      <th>3</th>\n",
       "      <td>India</td>\n",
       "      <td>27</td>\n",
       "      <td>2,820</td>\n",
       "      <td>104</td>\n",
       "    </tr>\n",
       "    <tr>\n",
       "      <th>4</th>\n",
       "      <td>New Zealand</td>\n",
       "      <td>24</td>\n",
       "      <td>2,688</td>\n",
       "      <td>96</td>\n",
       "    </tr>\n",
       "    <tr>\n",
       "      <th>5</th>\n",
       "      <td>West Indies</td>\n",
       "      <td>19</td>\n",
       "      <td>2,743</td>\n",
       "      <td>95</td>\n",
       "    </tr>\n",
       "    <tr>\n",
       "      <th>6</th>\n",
       "      <td>Bangladesh</td>\n",
       "      <td>25</td>\n",
       "      <td>977</td>\n",
       "      <td>70</td>\n",
       "    </tr>\n",
       "    <tr>\n",
       "      <th>7</th>\n",
       "      <td>Sri Lanka</td>\n",
       "      <td>28</td>\n",
       "      <td>820</td>\n",
       "      <td>68</td>\n",
       "    </tr>\n",
       "    <tr>\n",
       "      <th>8</th>\n",
       "      <td>Thailand</td>\n",
       "      <td>13</td>\n",
       "      <td>806</td>\n",
       "      <td>67</td>\n",
       "    </tr>\n",
       "    <tr>\n",
       "      <th>9</th>\n",
       "      <td>Pakistan</td>\n",
       "      <td>32</td>\n",
       "      <td>1,678</td>\n",
       "      <td>62</td>\n",
       "    </tr>\n",
       "  </tbody>\n",
       "</table>\n",
       "</div>"
      ],
      "text/plain": [
       "          Teams Matches Points Rating\n",
       "0     Australia      21  3,603    172\n",
       "1       England      20  3,342    119\n",
       "2  South Africa      33  3,098    119\n",
       "3         India      27  2,820    104\n",
       "4   New Zealand      24  2,688     96\n",
       "5   West Indies      19  2,743     95\n",
       "6    Bangladesh      25    977     70\n",
       "7     Sri Lanka      28    820     68\n",
       "8      Thailand      13    806     67\n",
       "9      Pakistan      32  1,678     62"
      ]
     },
     "execution_count": 226,
     "metadata": {},
     "output_type": "execute_result"
    }
   ],
   "source": [
    "df = pd.DataFrame({\"Teams\":teams,\"Matches\":matches,\"Points\":points,\"Rating\":rating})\n",
    "df"
   ]
  },
  {
   "cell_type": "markdown",
   "id": "605f953b",
   "metadata": {},
   "source": [
    "## b)"
   ]
  },
  {
   "cell_type": "code",
   "execution_count": 67,
   "id": "66468d1b",
   "metadata": {},
   "outputs": [],
   "source": [
    "import requests as requests\n",
    "from bs4 import BeautifulSoup"
   ]
  },
  {
   "cell_type": "code",
   "execution_count": 68,
   "id": "b887d3be",
   "metadata": {},
   "outputs": [],
   "source": [
    "url = \"https://www.icc-cricket.com/rankings/womens/player-rankings/odi/batting\""
   ]
  },
  {
   "cell_type": "code",
   "execution_count": 69,
   "id": "3cf5a116",
   "metadata": {},
   "outputs": [
    {
     "data": {
      "text/plain": [
       "<Response [200]>"
      ]
     },
     "execution_count": 69,
     "metadata": {},
     "output_type": "execute_result"
    }
   ],
   "source": [
    "page = requests.get(url)\n",
    "page"
   ]
  },
  {
   "cell_type": "code",
   "execution_count": 70,
   "id": "5a2fb3bd",
   "metadata": {},
   "outputs": [],
   "source": [
    "soup = BeautifulSoup(page.content)"
   ]
  },
  {
   "cell_type": "code",
   "execution_count": 232,
   "id": "9794c635",
   "metadata": {},
   "outputs": [],
   "source": [
    "player_1 = []\n",
    "for i in soup.find_all(\"div\",class_=\"rankings-block__banner--name-large\"):\n",
    "    player_1.append(i.text)"
   ]
  },
  {
   "cell_type": "code",
   "execution_count": 233,
   "id": "ea1ffbf5",
   "metadata": {},
   "outputs": [
    {
     "data": {
      "text/plain": [
       "['Chamari Athapaththu']"
      ]
     },
     "execution_count": 233,
     "metadata": {},
     "output_type": "execute_result"
    }
   ],
   "source": [
    "player_1"
   ]
  },
  {
   "cell_type": "code",
   "execution_count": 239,
   "id": "d0666d50",
   "metadata": {},
   "outputs": [],
   "source": [
    "player_rest = []\n",
    "for i in soup.find_all(\"td\",class_=\"table-body__cell rankings-table__name name\"):\n",
    "    player_rest.append(i.text)\n",
    "    \n",
    "player_rest9 = player_rest[:9]\n",
    "player_rest9 = [elements.strip()for elements in player_rest9]\n",
    "players = player_1 + player_rest9"
   ]
  },
  {
   "cell_type": "code",
   "execution_count": 240,
   "id": "24b292d7",
   "metadata": {},
   "outputs": [
    {
     "data": {
      "text/plain": [
       "['Chamari Athapaththu',\n",
       " 'Beth Mooney',\n",
       " 'Laura Wolvaardt',\n",
       " 'Natalie Sciver',\n",
       " 'Meg Lanning',\n",
       " 'Harmanpreet Kaur',\n",
       " 'Smriti Mandhana',\n",
       " 'Ellyse Perry',\n",
       " 'Stafanie Taylor',\n",
       " 'Tammy Beaumont']"
      ]
     },
     "execution_count": 240,
     "metadata": {},
     "output_type": "execute_result"
    }
   ],
   "source": [
    "players"
   ]
  },
  {
   "cell_type": "code",
   "execution_count": 245,
   "id": "9e9d0418",
   "metadata": {},
   "outputs": [],
   "source": [
    "team_1 = []\n",
    "for i in soup.find_all(\"div\",class_=\"rankings-block__banner--nationality\"):\n",
    "    team_1.append(i.text)\n",
    "    \n",
    "team_1 = [elements.strip()for elements in team_1]"
   ]
  },
  {
   "cell_type": "code",
   "execution_count": 247,
   "id": "137f4715",
   "metadata": {},
   "outputs": [
    {
     "data": {
      "text/plain": [
       "['SL']"
      ]
     },
     "execution_count": 247,
     "metadata": {},
     "output_type": "execute_result"
    }
   ],
   "source": [
    "team_1"
   ]
  },
  {
   "cell_type": "code",
   "execution_count": 252,
   "id": "19dedff7",
   "metadata": {},
   "outputs": [],
   "source": [
    "team_rest = []\n",
    "for i in soup.find_all (\"span\",class_=\"table-body__logo-text\"):\n",
    "    team_rest.append(i.text)\n",
    "    \n",
    "team_rest9 = team_rest[:9]\n",
    "teams = team_1 + team_rest9"
   ]
  },
  {
   "cell_type": "code",
   "execution_count": 253,
   "id": "7b845fad",
   "metadata": {},
   "outputs": [
    {
     "data": {
      "text/plain": [
       "['SL', 'AUS', 'SA', 'ENG', 'AUS', 'IND', 'IND', 'AUS', 'WI', 'ENG']"
      ]
     },
     "execution_count": 253,
     "metadata": {},
     "output_type": "execute_result"
    }
   ],
   "source": [
    "teams"
   ]
  },
  {
   "cell_type": "code",
   "execution_count": 256,
   "id": "77f2d0d2",
   "metadata": {},
   "outputs": [],
   "source": [
    "rating_1 = []\n",
    "for i in soup.find_all (\"div\",class_=\"rankings-block__banner--rating\"):\n",
    "    rating_1.append(i.text)"
   ]
  },
  {
   "cell_type": "code",
   "execution_count": 257,
   "id": "0d7e6a0c",
   "metadata": {},
   "outputs": [
    {
     "data": {
      "text/plain": [
       "['758']"
      ]
     },
     "execution_count": 257,
     "metadata": {},
     "output_type": "execute_result"
    }
   ],
   "source": [
    "rating_1"
   ]
  },
  {
   "cell_type": "code",
   "execution_count": 260,
   "id": "cdb4a69d",
   "metadata": {},
   "outputs": [],
   "source": [
    "rating_rest = []\n",
    "for i in soup.find_all(\"td\",class_=\"table-body__cell rating\"):\n",
    "    rating_rest.append(i.text)\n",
    "\n",
    "rating_rest9 = rating_rest[:9]\n",
    "rating = rating_1 + rating_rest9"
   ]
  },
  {
   "cell_type": "code",
   "execution_count": 261,
   "id": "5a5b5cce",
   "metadata": {},
   "outputs": [
    {
     "data": {
      "text/plain": [
       "['758', '754', '732', '731', '717', '716', '714', '626', '618', '595']"
      ]
     },
     "execution_count": 261,
     "metadata": {},
     "output_type": "execute_result"
    }
   ],
   "source": [
    "rating"
   ]
  },
  {
   "cell_type": "code",
   "execution_count": 263,
   "id": "438e1f14",
   "metadata": {},
   "outputs": [],
   "source": [
    "import pandas as pd"
   ]
  },
  {
   "cell_type": "code",
   "execution_count": 264,
   "id": "6ad83b74",
   "metadata": {},
   "outputs": [
    {
     "data": {
      "text/html": [
       "<div>\n",
       "<style scoped>\n",
       "    .dataframe tbody tr th:only-of-type {\n",
       "        vertical-align: middle;\n",
       "    }\n",
       "\n",
       "    .dataframe tbody tr th {\n",
       "        vertical-align: top;\n",
       "    }\n",
       "\n",
       "    .dataframe thead th {\n",
       "        text-align: right;\n",
       "    }\n",
       "</style>\n",
       "<table border=\"1\" class=\"dataframe\">\n",
       "  <thead>\n",
       "    <tr style=\"text-align: right;\">\n",
       "      <th></th>\n",
       "      <th>PLAYERS</th>\n",
       "      <th>MATCHES</th>\n",
       "      <th>POINTS</th>\n",
       "      <th>RATING</th>\n",
       "    </tr>\n",
       "  </thead>\n",
       "  <tbody>\n",
       "    <tr>\n",
       "      <th>0</th>\n",
       "      <td>Chamari Athapaththu</td>\n",
       "      <td>21</td>\n",
       "      <td>3,603</td>\n",
       "      <td>758</td>\n",
       "    </tr>\n",
       "    <tr>\n",
       "      <th>1</th>\n",
       "      <td>Beth Mooney</td>\n",
       "      <td>20</td>\n",
       "      <td>3,342</td>\n",
       "      <td>754</td>\n",
       "    </tr>\n",
       "    <tr>\n",
       "      <th>2</th>\n",
       "      <td>Laura Wolvaardt</td>\n",
       "      <td>33</td>\n",
       "      <td>3,098</td>\n",
       "      <td>732</td>\n",
       "    </tr>\n",
       "    <tr>\n",
       "      <th>3</th>\n",
       "      <td>Natalie Sciver</td>\n",
       "      <td>27</td>\n",
       "      <td>2,820</td>\n",
       "      <td>731</td>\n",
       "    </tr>\n",
       "    <tr>\n",
       "      <th>4</th>\n",
       "      <td>Meg Lanning</td>\n",
       "      <td>24</td>\n",
       "      <td>2,688</td>\n",
       "      <td>717</td>\n",
       "    </tr>\n",
       "    <tr>\n",
       "      <th>5</th>\n",
       "      <td>Harmanpreet Kaur</td>\n",
       "      <td>19</td>\n",
       "      <td>2,743</td>\n",
       "      <td>716</td>\n",
       "    </tr>\n",
       "    <tr>\n",
       "      <th>6</th>\n",
       "      <td>Smriti Mandhana</td>\n",
       "      <td>25</td>\n",
       "      <td>977</td>\n",
       "      <td>714</td>\n",
       "    </tr>\n",
       "    <tr>\n",
       "      <th>7</th>\n",
       "      <td>Ellyse Perry</td>\n",
       "      <td>28</td>\n",
       "      <td>820</td>\n",
       "      <td>626</td>\n",
       "    </tr>\n",
       "    <tr>\n",
       "      <th>8</th>\n",
       "      <td>Stafanie Taylor</td>\n",
       "      <td>13</td>\n",
       "      <td>806</td>\n",
       "      <td>618</td>\n",
       "    </tr>\n",
       "    <tr>\n",
       "      <th>9</th>\n",
       "      <td>Tammy Beaumont</td>\n",
       "      <td>32</td>\n",
       "      <td>1,678</td>\n",
       "      <td>595</td>\n",
       "    </tr>\n",
       "  </tbody>\n",
       "</table>\n",
       "</div>"
      ],
      "text/plain": [
       "               PLAYERS MATCHES POINTS RATING\n",
       "0  Chamari Athapaththu      21  3,603    758\n",
       "1          Beth Mooney      20  3,342    754\n",
       "2      Laura Wolvaardt      33  3,098    732\n",
       "3       Natalie Sciver      27  2,820    731\n",
       "4          Meg Lanning      24  2,688    717\n",
       "5     Harmanpreet Kaur      19  2,743    716\n",
       "6      Smriti Mandhana      25    977    714\n",
       "7         Ellyse Perry      28    820    626\n",
       "8      Stafanie Taylor      13    806    618\n",
       "9       Tammy Beaumont      32  1,678    595"
      ]
     },
     "execution_count": 264,
     "metadata": {},
     "output_type": "execute_result"
    }
   ],
   "source": [
    "df = pd.DataFrame({\"PLAYERS\":players,\"MATCHES\":matches,\"POINTS\":points,\"RATING\":rating})\n",
    "df"
   ]
  },
  {
   "cell_type": "markdown",
   "id": "e03994d8",
   "metadata": {},
   "source": [
    "## c)"
   ]
  },
  {
   "cell_type": "code",
   "execution_count": 71,
   "id": "b1d76bdf",
   "metadata": {},
   "outputs": [],
   "source": [
    "import requests as requests\n",
    "from bs4 import BeautifulSoup"
   ]
  },
  {
   "cell_type": "code",
   "execution_count": 72,
   "id": "6c980f46",
   "metadata": {},
   "outputs": [],
   "source": [
    "url = \"https://www.icc-cricket.com/rankings/womens/player-rankings/odi/all-rounder\""
   ]
  },
  {
   "cell_type": "code",
   "execution_count": 73,
   "id": "66020fca",
   "metadata": {},
   "outputs": [
    {
     "data": {
      "text/plain": [
       "<Response [200]>"
      ]
     },
     "execution_count": 73,
     "metadata": {},
     "output_type": "execute_result"
    }
   ],
   "source": [
    "page = requests.get(url)\n",
    "page"
   ]
  },
  {
   "cell_type": "code",
   "execution_count": 74,
   "id": "be26a0fe",
   "metadata": {},
   "outputs": [],
   "source": [
    "soup = BeautifulSoup(page.content)"
   ]
  },
  {
   "cell_type": "code",
   "execution_count": 270,
   "id": "7342a216",
   "metadata": {},
   "outputs": [],
   "source": [
    "player_1 = []\n",
    "for i in soup.find_all(\"div\",class_=\"rankings-block__banner--name-large\"):\n",
    "    player_1.append(i.text)"
   ]
  },
  {
   "cell_type": "code",
   "execution_count": 271,
   "id": "957ff957",
   "metadata": {},
   "outputs": [
    {
     "data": {
      "text/plain": [
       "['Hayley Matthews']"
      ]
     },
     "execution_count": 271,
     "metadata": {},
     "output_type": "execute_result"
    }
   ],
   "source": [
    "player_1"
   ]
  },
  {
   "cell_type": "code",
   "execution_count": 273,
   "id": "4c32edc4",
   "metadata": {},
   "outputs": [],
   "source": [
    "player_rest = []\n",
    "for i in soup.find_all(\"td\",class_=\"table-body__cell rankings-table__name name\"):\n",
    "    player_rest.append(i.text)\n",
    "\n",
    "player_rest = [elements.strip()for elements in player_rest]\n",
    "player_rest9 = player_rest[:9]\n",
    "players = player_1 + player_rest9"
   ]
  },
  {
   "cell_type": "code",
   "execution_count": 274,
   "id": "bc3182cd",
   "metadata": {},
   "outputs": [
    {
     "data": {
      "text/plain": [
       "['Hayley Matthews',\n",
       " 'Natalie Sciver',\n",
       " 'Ellyse Perry',\n",
       " 'Marizanne Kapp',\n",
       " 'Amelia Kerr',\n",
       " 'Deepti Sharma',\n",
       " 'Ashleigh Gardner',\n",
       " 'Jess Jonassen',\n",
       " 'Sophie Devine',\n",
       " 'Nida Dar']"
      ]
     },
     "execution_count": 274,
     "metadata": {},
     "output_type": "execute_result"
    }
   ],
   "source": [
    "players"
   ]
  },
  {
   "cell_type": "code",
   "execution_count": 276,
   "id": "c387d18f",
   "metadata": {},
   "outputs": [],
   "source": [
    "team_1 = []\n",
    "for i in soup.find_all(\"div\",class_=\"rankings-block__banner--nationality\"):\n",
    "    team_1.append(i.text)"
   ]
  },
  {
   "cell_type": "code",
   "execution_count": 277,
   "id": "64adb945",
   "metadata": {},
   "outputs": [
    {
     "data": {
      "text/plain": [
       "['\\n\\nWI\\n                    ']"
      ]
     },
     "execution_count": 277,
     "metadata": {},
     "output_type": "execute_result"
    }
   ],
   "source": [
    "team_1"
   ]
  },
  {
   "cell_type": "code",
   "execution_count": 278,
   "id": "f14f3bbf",
   "metadata": {},
   "outputs": [],
   "source": [
    "team_1 = [elements.strip()for elements in team_1]"
   ]
  },
  {
   "cell_type": "code",
   "execution_count": 279,
   "id": "7d30a761",
   "metadata": {},
   "outputs": [
    {
     "data": {
      "text/plain": [
       "['WI']"
      ]
     },
     "execution_count": 279,
     "metadata": {},
     "output_type": "execute_result"
    }
   ],
   "source": [
    "team_1"
   ]
  },
  {
   "cell_type": "code",
   "execution_count": 281,
   "id": "4477759e",
   "metadata": {},
   "outputs": [],
   "source": [
    "team_rest = []\n",
    "for i in soup.find_all(\"span\",class_=\"table-body__logo-text\"):\n",
    "    team_rest.append(i.text)\n",
    "\n",
    "team_rest9 = team_rest[:9]\n",
    "teams = team_1 + team_rest9"
   ]
  },
  {
   "cell_type": "code",
   "execution_count": 282,
   "id": "5d00db36",
   "metadata": {},
   "outputs": [
    {
     "data": {
      "text/plain": [
       "['WI', 'ENG', 'AUS', 'SA', 'NZ', 'IND', 'AUS', 'AUS', 'NZ', 'PAK']"
      ]
     },
     "execution_count": 282,
     "metadata": {},
     "output_type": "execute_result"
    }
   ],
   "source": [
    "teams"
   ]
  },
  {
   "cell_type": "code",
   "execution_count": 285,
   "id": "0c07f2c2",
   "metadata": {},
   "outputs": [],
   "source": [
    "rating_1 = []\n",
    "for i in soup.find_all(\"div\",class_=\"rankings-block__banner--rating\"):\n",
    "    rating_1.append(i.text)"
   ]
  },
  {
   "cell_type": "code",
   "execution_count": 286,
   "id": "65a0915f",
   "metadata": {},
   "outputs": [
    {
     "data": {
      "text/plain": [
       "['382']"
      ]
     },
     "execution_count": 286,
     "metadata": {},
     "output_type": "execute_result"
    }
   ],
   "source": [
    "rating_1"
   ]
  },
  {
   "cell_type": "code",
   "execution_count": 288,
   "id": "ff9dc844",
   "metadata": {},
   "outputs": [],
   "source": [
    "rating_rest = []\n",
    "for i in soup.find_all(\"td\",class_=\"table-body__cell rating\"):\n",
    "    rating_rest.append(i.text)\n",
    "\n",
    "rating_rest9 = rating_rest[:9]\n",
    "rating = rating_1 + rating_rest9"
   ]
  },
  {
   "cell_type": "code",
   "execution_count": 289,
   "id": "9f088849",
   "metadata": {},
   "outputs": [
    {
     "data": {
      "text/plain": [
       "['382', '371', '366', '349', '328', '322', '292', '250', '233', '232']"
      ]
     },
     "execution_count": 289,
     "metadata": {},
     "output_type": "execute_result"
    }
   ],
   "source": [
    "rating"
   ]
  },
  {
   "cell_type": "code",
   "execution_count": 291,
   "id": "f321b40a",
   "metadata": {},
   "outputs": [],
   "source": [
    "import pandas as pd"
   ]
  },
  {
   "cell_type": "code",
   "execution_count": 293,
   "id": "730235ce",
   "metadata": {},
   "outputs": [
    {
     "data": {
      "text/html": [
       "<div>\n",
       "<style scoped>\n",
       "    .dataframe tbody tr th:only-of-type {\n",
       "        vertical-align: middle;\n",
       "    }\n",
       "\n",
       "    .dataframe tbody tr th {\n",
       "        vertical-align: top;\n",
       "    }\n",
       "\n",
       "    .dataframe thead th {\n",
       "        text-align: right;\n",
       "    }\n",
       "</style>\n",
       "<table border=\"1\" class=\"dataframe\">\n",
       "  <thead>\n",
       "    <tr style=\"text-align: right;\">\n",
       "      <th></th>\n",
       "      <th>WOMEN ALL-ROUNDER</th>\n",
       "      <th>TEAMS</th>\n",
       "      <th>RATING</th>\n",
       "    </tr>\n",
       "  </thead>\n",
       "  <tbody>\n",
       "    <tr>\n",
       "      <th>0</th>\n",
       "      <td>Hayley Matthews</td>\n",
       "      <td>WI</td>\n",
       "      <td>382</td>\n",
       "    </tr>\n",
       "    <tr>\n",
       "      <th>1</th>\n",
       "      <td>Natalie Sciver</td>\n",
       "      <td>ENG</td>\n",
       "      <td>371</td>\n",
       "    </tr>\n",
       "    <tr>\n",
       "      <th>2</th>\n",
       "      <td>Ellyse Perry</td>\n",
       "      <td>AUS</td>\n",
       "      <td>366</td>\n",
       "    </tr>\n",
       "    <tr>\n",
       "      <th>3</th>\n",
       "      <td>Marizanne Kapp</td>\n",
       "      <td>SA</td>\n",
       "      <td>349</td>\n",
       "    </tr>\n",
       "    <tr>\n",
       "      <th>4</th>\n",
       "      <td>Amelia Kerr</td>\n",
       "      <td>NZ</td>\n",
       "      <td>328</td>\n",
       "    </tr>\n",
       "    <tr>\n",
       "      <th>5</th>\n",
       "      <td>Deepti Sharma</td>\n",
       "      <td>IND</td>\n",
       "      <td>322</td>\n",
       "    </tr>\n",
       "    <tr>\n",
       "      <th>6</th>\n",
       "      <td>Ashleigh Gardner</td>\n",
       "      <td>AUS</td>\n",
       "      <td>292</td>\n",
       "    </tr>\n",
       "    <tr>\n",
       "      <th>7</th>\n",
       "      <td>Jess Jonassen</td>\n",
       "      <td>AUS</td>\n",
       "      <td>250</td>\n",
       "    </tr>\n",
       "    <tr>\n",
       "      <th>8</th>\n",
       "      <td>Sophie Devine</td>\n",
       "      <td>NZ</td>\n",
       "      <td>233</td>\n",
       "    </tr>\n",
       "    <tr>\n",
       "      <th>9</th>\n",
       "      <td>Nida Dar</td>\n",
       "      <td>PAK</td>\n",
       "      <td>232</td>\n",
       "    </tr>\n",
       "  </tbody>\n",
       "</table>\n",
       "</div>"
      ],
      "text/plain": [
       "  WOMEN ALL-ROUNDER TEAMS RATING\n",
       "0   Hayley Matthews    WI    382\n",
       "1    Natalie Sciver   ENG    371\n",
       "2      Ellyse Perry   AUS    366\n",
       "3    Marizanne Kapp    SA    349\n",
       "4       Amelia Kerr    NZ    328\n",
       "5     Deepti Sharma   IND    322\n",
       "6  Ashleigh Gardner   AUS    292\n",
       "7     Jess Jonassen   AUS    250\n",
       "8     Sophie Devine    NZ    233\n",
       "9          Nida Dar   PAK    232"
      ]
     },
     "execution_count": 293,
     "metadata": {},
     "output_type": "execute_result"
    }
   ],
   "source": [
    "df = pd.DataFrame({\"WOMEN ALL-ROUNDER\":players,\"TEAMS\":teams,\"RATING\":rating})\n",
    "df"
   ]
  },
  {
   "cell_type": "markdown",
   "id": "fbee56de",
   "metadata": {},
   "source": [
    "# Question 6"
   ]
  },
  {
   "cell_type": "code",
   "execution_count": 75,
   "id": "334a048c",
   "metadata": {},
   "outputs": [],
   "source": [
    "import requests as requests\n",
    "from bs4 import BeautifulSoup"
   ]
  },
  {
   "cell_type": "code",
   "execution_count": 76,
   "id": "d6557a9c",
   "metadata": {},
   "outputs": [],
   "source": [
    "url = \"https://www.journals.elsevier.com/artificial-intelligence/most-downloaded-articles\""
   ]
  },
  {
   "cell_type": "code",
   "execution_count": 77,
   "id": "6b65e3be",
   "metadata": {},
   "outputs": [
    {
     "data": {
      "text/plain": [
       "<Response [200]>"
      ]
     },
     "execution_count": 77,
     "metadata": {},
     "output_type": "execute_result"
    }
   ],
   "source": [
    "page = requests.get(url)\n",
    "page"
   ]
  },
  {
   "cell_type": "code",
   "execution_count": 78,
   "id": "034adb82",
   "metadata": {},
   "outputs": [],
   "source": [
    "soup = BeautifulSoup(page.content)"
   ]
  },
  {
   "cell_type": "code",
   "execution_count": 6,
   "id": "ccb2d40a",
   "metadata": {},
   "outputs": [],
   "source": [
    "title = []\n",
    "for i in soup.find_all(\"h2\",class_=\"sc-1qrq3sd-1 gRGSUS sc-1nmom32-0 sc-1nmom32-1 btcbYu goSKRg\"):\n",
    "    title.append(i.text)"
   ]
  },
  {
   "cell_type": "code",
   "execution_count": 7,
   "id": "01cad5cb",
   "metadata": {},
   "outputs": [
    {
     "data": {
      "text/plain": [
       "['Reward is enough',\n",
       " 'Explanation in artificial intelligence: Insights from the social sciences',\n",
       " 'Creativity and artificial intelligence',\n",
       " 'Conflict-based search for optimal multi-agent pathfinding',\n",
       " 'Knowledge graphs as tools for explainable machine learning: A survey',\n",
       " 'Law and logic: A review from an argumentation perspective',\n",
       " 'Between MDPs and semi-MDPs: A framework for temporal abstraction in reinforcement learning',\n",
       " 'Explaining individual predictions when features are dependent: More accurate approximations to Shapley values',\n",
       " 'Multiple object tracking: A literature review',\n",
       " 'A survey of inverse reinforcement learning: Challenges, methods and progress',\n",
       " 'Evaluating XAI: A comparison of rule-based and example-based explanations',\n",
       " 'Explainable AI tools for legal reasoning about cases: A study on the European Court of Human Rights',\n",
       " 'Hard choices in artificial intelligence',\n",
       " 'Assessing the communication gap between AI models and healthcare professionals: Explainability, utility and trust in AI-driven clinical decision-making',\n",
       " 'Explaining black-box classifiers using post-hoc explanations-by-example: The effect of explanations and error-rates in XAI user studies',\n",
       " 'The Hanabi challenge: A new frontier for AI research',\n",
       " 'Wrappers for feature subset selection',\n",
       " 'Artificial cognition for social human–robot interaction: An implementation',\n",
       " 'A review of possible effects of cognitive biases on interpretation of rule-based machine learning models',\n",
       " 'The multifaceted impact of Ada Lovelace in the digital age',\n",
       " 'Robot ethics: Mapping the issues for a mechanized world',\n",
       " 'Reward (Mis)design for autonomous driving',\n",
       " 'Planning and acting in partially observable stochastic domains',\n",
       " 'What do we want from Explainable Artificial Intelligence (XAI)? – A stakeholder perspective on XAI and a conceptual model guiding interdisciplinary XAI research']"
      ]
     },
     "execution_count": 7,
     "metadata": {},
     "output_type": "execute_result"
    }
   ],
   "source": [
    "title"
   ]
  },
  {
   "cell_type": "code",
   "execution_count": 13,
   "id": "b8d96fc1",
   "metadata": {},
   "outputs": [],
   "source": [
    "author = []\n",
    "for i in soup.find_all(\"span\",class_=\"sc-1w3fpd7-0 dnCnAO\"):\n",
    "    author.append(i.text)"
   ]
  },
  {
   "cell_type": "code",
   "execution_count": 14,
   "id": "fd76fb8e",
   "metadata": {},
   "outputs": [
    {
     "data": {
      "text/plain": [
       "['David Silver, Satinder Singh, Doina Precup, Richard S. Sutton ',\n",
       " 'Tim Miller ',\n",
       " 'Margaret A. Boden ',\n",
       " 'Guni Sharon, Roni Stern, Ariel Felner, Nathan R. Sturtevant ',\n",
       " 'Ilaria Tiddi, Stefan Schlobach ',\n",
       " 'Henry Prakken, Giovanni Sartor ',\n",
       " 'Richard S. Sutton, Doina Precup, Satinder Singh ',\n",
       " 'Kjersti Aas, Martin Jullum, Anders Løland ',\n",
       " 'Wenhan Luo, Junliang Xing and 4 more',\n",
       " 'Saurabh Arora, Prashant Doshi ',\n",
       " 'Jasper van der Waa, Elisabeth Nieuwburg, Anita Cremers, Mark Neerincx ',\n",
       " 'Joe Collenette, Katie Atkinson, Trevor Bench-Capon ',\n",
       " 'Roel Dobbe, Thomas Krendl Gilbert, Yonatan Mintz ',\n",
       " 'Oskar Wysocki, Jessica Katharine Davies and 5 more',\n",
       " 'Eoin M. Kenny, Courtney Ford, Molly Quinn, Mark T. Keane ',\n",
       " 'Nolan Bard, Jakob N. Foerster and 13 more',\n",
       " 'Ron Kohavi, George H. John ',\n",
       " 'Séverin Lemaignan, Mathieu Warnier and 3 more',\n",
       " 'Tomáš Kliegr, Štěpán Bahník, Johannes Fürnkranz ',\n",
       " 'Luigia Carlucci Aiello ',\n",
       " 'Patrick Lin, Keith Abney, George Bekey ',\n",
       " 'W. Bradley Knox, Alessandro Allievi and 3 more',\n",
       " 'Leslie Pack Kaelbling, Michael L. Littman, Anthony R. Cassandra ',\n",
       " 'Markus Langer, Daniel Oster and 6 more']"
      ]
     },
     "execution_count": 14,
     "metadata": {},
     "output_type": "execute_result"
    }
   ],
   "source": [
    "author"
   ]
  },
  {
   "cell_type": "code",
   "execution_count": 15,
   "id": "7d36578c",
   "metadata": {},
   "outputs": [
    {
     "data": {
      "text/plain": [
       "['October 2021',\n",
       " 'February 2019',\n",
       " 'August 1998',\n",
       " 'February 2015',\n",
       " 'January 2022',\n",
       " 'October 2015',\n",
       " 'August 1999',\n",
       " 'September 2021',\n",
       " 'April 2021',\n",
       " 'August 2021',\n",
       " 'February 2021',\n",
       " 'April 2023',\n",
       " 'November 2021',\n",
       " 'March 2023',\n",
       " 'May 2021',\n",
       " 'March 2020',\n",
       " 'December 1997',\n",
       " 'June 2017',\n",
       " 'June 2021',\n",
       " 'June 2016',\n",
       " 'April 2011',\n",
       " 'March 2023',\n",
       " 'May 1998',\n",
       " 'July 2021']"
      ]
     },
     "execution_count": 15,
     "metadata": {},
     "output_type": "execute_result"
    }
   ],
   "source": [
    "date = []\n",
    "for i in soup.find_all(\"span\",class_=\"sc-1thf9ly-2 dvggWt\"):\n",
    "    date.append(i.text)\n",
    "date"
   ]
  },
  {
   "cell_type": "code",
   "execution_count": 24,
   "id": "dd9c5a07",
   "metadata": {},
   "outputs": [
    {
     "data": {
      "text/plain": [
       "['https://www.sciencedirect.com/science/article/pii/S0004370221000862',\n",
       " 'https://www.sciencedirect.com/science/article/pii/S0004370218305988',\n",
       " 'https://www.sciencedirect.com/science/article/pii/S0004370298000551',\n",
       " 'https://www.sciencedirect.com/science/article/pii/S0004370214001386',\n",
       " 'https://www.sciencedirect.com/science/article/pii/S0004370221001788',\n",
       " 'https://www.sciencedirect.com/science/article/pii/S0004370215000910',\n",
       " 'https://www.sciencedirect.com/science/article/pii/S0004370299000521',\n",
       " 'https://www.sciencedirect.com/science/article/pii/S0004370221000539',\n",
       " 'https://www.sciencedirect.com/science/article/pii/S0004370220301958',\n",
       " 'https://www.sciencedirect.com/science/article/pii/S0004370221000515',\n",
       " 'https://www.sciencedirect.com/science/article/pii/S0004370220301533',\n",
       " 'https://www.sciencedirect.com/science/article/pii/S0004370223000073',\n",
       " 'https://www.sciencedirect.com/science/article/pii/S0004370221001065',\n",
       " 'https://www.sciencedirect.com/science/article/pii/S0004370222001795',\n",
       " 'https://www.sciencedirect.com/science/article/pii/S0004370221000102',\n",
       " 'https://www.sciencedirect.com/science/article/pii/S0004370219300116',\n",
       " 'https://www.sciencedirect.com/science/article/pii/S000437029700043X',\n",
       " 'https://www.sciencedirect.com/science/article/pii/S0004370216300790',\n",
       " 'https://www.sciencedirect.com/science/article/pii/S0004370221000096',\n",
       " 'https://www.sciencedirect.com/science/article/pii/S0004370216300224',\n",
       " 'https://www.sciencedirect.com/science/article/pii/S0004370211000178',\n",
       " 'https://www.sciencedirect.com/science/article/pii/S0004370222001692',\n",
       " 'https://www.sciencedirect.com/science/article/pii/S000437029800023X',\n",
       " 'https://www.sciencedirect.com/science/article/pii/S0004370221000242']"
      ]
     },
     "execution_count": 24,
     "metadata": {},
     "output_type": "execute_result"
    }
   ],
   "source": [
    "url = []\n",
    "for i in soup.find_all(\"a\",class_=\"sc-5smygv-0 fIXTHm\"):\n",
    "    url.append(i.get('href'))\n",
    "url\n",
    "       "
   ]
  },
  {
   "cell_type": "code",
   "execution_count": 25,
   "id": "ee5f7da9",
   "metadata": {},
   "outputs": [],
   "source": [
    "import pandas as pd"
   ]
  },
  {
   "cell_type": "code",
   "execution_count": 26,
   "id": "bb06d1df",
   "metadata": {},
   "outputs": [
    {
     "data": {
      "text/html": [
       "<div>\n",
       "<style scoped>\n",
       "    .dataframe tbody tr th:only-of-type {\n",
       "        vertical-align: middle;\n",
       "    }\n",
       "\n",
       "    .dataframe tbody tr th {\n",
       "        vertical-align: top;\n",
       "    }\n",
       "\n",
       "    .dataframe thead th {\n",
       "        text-align: right;\n",
       "    }\n",
       "</style>\n",
       "<table border=\"1\" class=\"dataframe\">\n",
       "  <thead>\n",
       "    <tr style=\"text-align: right;\">\n",
       "      <th></th>\n",
       "      <th>Paper Title</th>\n",
       "      <th>Authors</th>\n",
       "      <th>Published Date</th>\n",
       "      <th>Paper Url</th>\n",
       "    </tr>\n",
       "  </thead>\n",
       "  <tbody>\n",
       "    <tr>\n",
       "      <th>0</th>\n",
       "      <td>Reward is enough</td>\n",
       "      <td>David Silver, Satinder Singh, Doina Precup, Ri...</td>\n",
       "      <td>October 2021</td>\n",
       "      <td>https://www.sciencedirect.com/science/article/...</td>\n",
       "    </tr>\n",
       "    <tr>\n",
       "      <th>1</th>\n",
       "      <td>Explanation in artificial intelligence: Insigh...</td>\n",
       "      <td>Tim Miller</td>\n",
       "      <td>February 2019</td>\n",
       "      <td>https://www.sciencedirect.com/science/article/...</td>\n",
       "    </tr>\n",
       "    <tr>\n",
       "      <th>2</th>\n",
       "      <td>Creativity and artificial intelligence</td>\n",
       "      <td>Margaret A. Boden</td>\n",
       "      <td>August 1998</td>\n",
       "      <td>https://www.sciencedirect.com/science/article/...</td>\n",
       "    </tr>\n",
       "    <tr>\n",
       "      <th>3</th>\n",
       "      <td>Conflict-based search for optimal multi-agent ...</td>\n",
       "      <td>Guni Sharon, Roni Stern, Ariel Felner, Nathan ...</td>\n",
       "      <td>February 2015</td>\n",
       "      <td>https://www.sciencedirect.com/science/article/...</td>\n",
       "    </tr>\n",
       "    <tr>\n",
       "      <th>4</th>\n",
       "      <td>Knowledge graphs as tools for explainable mach...</td>\n",
       "      <td>Ilaria Tiddi, Stefan Schlobach</td>\n",
       "      <td>January 2022</td>\n",
       "      <td>https://www.sciencedirect.com/science/article/...</td>\n",
       "    </tr>\n",
       "    <tr>\n",
       "      <th>5</th>\n",
       "      <td>Law and logic: A review from an argumentation ...</td>\n",
       "      <td>Henry Prakken, Giovanni Sartor</td>\n",
       "      <td>October 2015</td>\n",
       "      <td>https://www.sciencedirect.com/science/article/...</td>\n",
       "    </tr>\n",
       "    <tr>\n",
       "      <th>6</th>\n",
       "      <td>Between MDPs and semi-MDPs: A framework for te...</td>\n",
       "      <td>Richard S. Sutton, Doina Precup, Satinder Singh</td>\n",
       "      <td>August 1999</td>\n",
       "      <td>https://www.sciencedirect.com/science/article/...</td>\n",
       "    </tr>\n",
       "    <tr>\n",
       "      <th>7</th>\n",
       "      <td>Explaining individual predictions when feature...</td>\n",
       "      <td>Kjersti Aas, Martin Jullum, Anders Løland</td>\n",
       "      <td>September 2021</td>\n",
       "      <td>https://www.sciencedirect.com/science/article/...</td>\n",
       "    </tr>\n",
       "    <tr>\n",
       "      <th>8</th>\n",
       "      <td>Multiple object tracking: A literature review</td>\n",
       "      <td>Wenhan Luo, Junliang Xing and 4 more</td>\n",
       "      <td>April 2021</td>\n",
       "      <td>https://www.sciencedirect.com/science/article/...</td>\n",
       "    </tr>\n",
       "    <tr>\n",
       "      <th>9</th>\n",
       "      <td>A survey of inverse reinforcement learning: Ch...</td>\n",
       "      <td>Saurabh Arora, Prashant Doshi</td>\n",
       "      <td>August 2021</td>\n",
       "      <td>https://www.sciencedirect.com/science/article/...</td>\n",
       "    </tr>\n",
       "    <tr>\n",
       "      <th>10</th>\n",
       "      <td>Evaluating XAI: A comparison of rule-based and...</td>\n",
       "      <td>Jasper van der Waa, Elisabeth Nieuwburg, Anita...</td>\n",
       "      <td>February 2021</td>\n",
       "      <td>https://www.sciencedirect.com/science/article/...</td>\n",
       "    </tr>\n",
       "    <tr>\n",
       "      <th>11</th>\n",
       "      <td>Explainable AI tools for legal reasoning about...</td>\n",
       "      <td>Joe Collenette, Katie Atkinson, Trevor Bench-C...</td>\n",
       "      <td>April 2023</td>\n",
       "      <td>https://www.sciencedirect.com/science/article/...</td>\n",
       "    </tr>\n",
       "    <tr>\n",
       "      <th>12</th>\n",
       "      <td>Hard choices in artificial intelligence</td>\n",
       "      <td>Roel Dobbe, Thomas Krendl Gilbert, Yonatan Mintz</td>\n",
       "      <td>November 2021</td>\n",
       "      <td>https://www.sciencedirect.com/science/article/...</td>\n",
       "    </tr>\n",
       "    <tr>\n",
       "      <th>13</th>\n",
       "      <td>Assessing the communication gap between AI mod...</td>\n",
       "      <td>Oskar Wysocki, Jessica Katharine Davies and 5 ...</td>\n",
       "      <td>March 2023</td>\n",
       "      <td>https://www.sciencedirect.com/science/article/...</td>\n",
       "    </tr>\n",
       "    <tr>\n",
       "      <th>14</th>\n",
       "      <td>Explaining black-box classifiers using post-ho...</td>\n",
       "      <td>Eoin M. Kenny, Courtney Ford, Molly Quinn, Mar...</td>\n",
       "      <td>May 2021</td>\n",
       "      <td>https://www.sciencedirect.com/science/article/...</td>\n",
       "    </tr>\n",
       "    <tr>\n",
       "      <th>15</th>\n",
       "      <td>The Hanabi challenge: A new frontier for AI re...</td>\n",
       "      <td>Nolan Bard, Jakob N. Foerster and 13 more</td>\n",
       "      <td>March 2020</td>\n",
       "      <td>https://www.sciencedirect.com/science/article/...</td>\n",
       "    </tr>\n",
       "    <tr>\n",
       "      <th>16</th>\n",
       "      <td>Wrappers for feature subset selection</td>\n",
       "      <td>Ron Kohavi, George H. John</td>\n",
       "      <td>December 1997</td>\n",
       "      <td>https://www.sciencedirect.com/science/article/...</td>\n",
       "    </tr>\n",
       "    <tr>\n",
       "      <th>17</th>\n",
       "      <td>Artificial cognition for social human–robot in...</td>\n",
       "      <td>Séverin Lemaignan, Mathieu Warnier and 3 more</td>\n",
       "      <td>June 2017</td>\n",
       "      <td>https://www.sciencedirect.com/science/article/...</td>\n",
       "    </tr>\n",
       "    <tr>\n",
       "      <th>18</th>\n",
       "      <td>A review of possible effects of cognitive bias...</td>\n",
       "      <td>Tomáš Kliegr, Štěpán Bahník, Johannes Fürnkranz</td>\n",
       "      <td>June 2021</td>\n",
       "      <td>https://www.sciencedirect.com/science/article/...</td>\n",
       "    </tr>\n",
       "    <tr>\n",
       "      <th>19</th>\n",
       "      <td>The multifaceted impact of Ada Lovelace in the...</td>\n",
       "      <td>Luigia Carlucci Aiello</td>\n",
       "      <td>June 2016</td>\n",
       "      <td>https://www.sciencedirect.com/science/article/...</td>\n",
       "    </tr>\n",
       "    <tr>\n",
       "      <th>20</th>\n",
       "      <td>Robot ethics: Mapping the issues for a mechani...</td>\n",
       "      <td>Patrick Lin, Keith Abney, George Bekey</td>\n",
       "      <td>April 2011</td>\n",
       "      <td>https://www.sciencedirect.com/science/article/...</td>\n",
       "    </tr>\n",
       "    <tr>\n",
       "      <th>21</th>\n",
       "      <td>Reward (Mis)design for autonomous driving</td>\n",
       "      <td>W. Bradley Knox, Alessandro Allievi and 3 more</td>\n",
       "      <td>March 2023</td>\n",
       "      <td>https://www.sciencedirect.com/science/article/...</td>\n",
       "    </tr>\n",
       "    <tr>\n",
       "      <th>22</th>\n",
       "      <td>Planning and acting in partially observable st...</td>\n",
       "      <td>Leslie Pack Kaelbling, Michael L. Littman, Ant...</td>\n",
       "      <td>May 1998</td>\n",
       "      <td>https://www.sciencedirect.com/science/article/...</td>\n",
       "    </tr>\n",
       "    <tr>\n",
       "      <th>23</th>\n",
       "      <td>What do we want from Explainable Artificial In...</td>\n",
       "      <td>Markus Langer, Daniel Oster and 6 more</td>\n",
       "      <td>July 2021</td>\n",
       "      <td>https://www.sciencedirect.com/science/article/...</td>\n",
       "    </tr>\n",
       "  </tbody>\n",
       "</table>\n",
       "</div>"
      ],
      "text/plain": [
       "                                          Paper Title  \\\n",
       "0                                    Reward is enough   \n",
       "1   Explanation in artificial intelligence: Insigh...   \n",
       "2              Creativity and artificial intelligence   \n",
       "3   Conflict-based search for optimal multi-agent ...   \n",
       "4   Knowledge graphs as tools for explainable mach...   \n",
       "5   Law and logic: A review from an argumentation ...   \n",
       "6   Between MDPs and semi-MDPs: A framework for te...   \n",
       "7   Explaining individual predictions when feature...   \n",
       "8       Multiple object tracking: A literature review   \n",
       "9   A survey of inverse reinforcement learning: Ch...   \n",
       "10  Evaluating XAI: A comparison of rule-based and...   \n",
       "11  Explainable AI tools for legal reasoning about...   \n",
       "12            Hard choices in artificial intelligence   \n",
       "13  Assessing the communication gap between AI mod...   \n",
       "14  Explaining black-box classifiers using post-ho...   \n",
       "15  The Hanabi challenge: A new frontier for AI re...   \n",
       "16              Wrappers for feature subset selection   \n",
       "17  Artificial cognition for social human–robot in...   \n",
       "18  A review of possible effects of cognitive bias...   \n",
       "19  The multifaceted impact of Ada Lovelace in the...   \n",
       "20  Robot ethics: Mapping the issues for a mechani...   \n",
       "21          Reward (Mis)design for autonomous driving   \n",
       "22  Planning and acting in partially observable st...   \n",
       "23  What do we want from Explainable Artificial In...   \n",
       "\n",
       "                                              Authors  Published Date  \\\n",
       "0   David Silver, Satinder Singh, Doina Precup, Ri...    October 2021   \n",
       "1                                         Tim Miller    February 2019   \n",
       "2                                  Margaret A. Boden      August 1998   \n",
       "3   Guni Sharon, Roni Stern, Ariel Felner, Nathan ...   February 2015   \n",
       "4                     Ilaria Tiddi, Stefan Schlobach     January 2022   \n",
       "5                     Henry Prakken, Giovanni Sartor     October 2015   \n",
       "6    Richard S. Sutton, Doina Precup, Satinder Singh      August 1999   \n",
       "7          Kjersti Aas, Martin Jullum, Anders Løland   September 2021   \n",
       "8                Wenhan Luo, Junliang Xing and 4 more      April 2021   \n",
       "9                      Saurabh Arora, Prashant Doshi      August 2021   \n",
       "10  Jasper van der Waa, Elisabeth Nieuwburg, Anita...   February 2021   \n",
       "11  Joe Collenette, Katie Atkinson, Trevor Bench-C...      April 2023   \n",
       "12  Roel Dobbe, Thomas Krendl Gilbert, Yonatan Mintz    November 2021   \n",
       "13  Oskar Wysocki, Jessica Katharine Davies and 5 ...      March 2023   \n",
       "14  Eoin M. Kenny, Courtney Ford, Molly Quinn, Mar...        May 2021   \n",
       "15          Nolan Bard, Jakob N. Foerster and 13 more      March 2020   \n",
       "16                        Ron Kohavi, George H. John    December 1997   \n",
       "17      Séverin Lemaignan, Mathieu Warnier and 3 more       June 2017   \n",
       "18   Tomáš Kliegr, Štěpán Bahník, Johannes Fürnkranz        June 2021   \n",
       "19                            Luigia Carlucci Aiello        June 2016   \n",
       "20            Patrick Lin, Keith Abney, George Bekey       April 2011   \n",
       "21     W. Bradley Knox, Alessandro Allievi and 3 more      March 2023   \n",
       "22  Leslie Pack Kaelbling, Michael L. Littman, Ant...        May 1998   \n",
       "23             Markus Langer, Daniel Oster and 6 more       July 2021   \n",
       "\n",
       "                                            Paper Url  \n",
       "0   https://www.sciencedirect.com/science/article/...  \n",
       "1   https://www.sciencedirect.com/science/article/...  \n",
       "2   https://www.sciencedirect.com/science/article/...  \n",
       "3   https://www.sciencedirect.com/science/article/...  \n",
       "4   https://www.sciencedirect.com/science/article/...  \n",
       "5   https://www.sciencedirect.com/science/article/...  \n",
       "6   https://www.sciencedirect.com/science/article/...  \n",
       "7   https://www.sciencedirect.com/science/article/...  \n",
       "8   https://www.sciencedirect.com/science/article/...  \n",
       "9   https://www.sciencedirect.com/science/article/...  \n",
       "10  https://www.sciencedirect.com/science/article/...  \n",
       "11  https://www.sciencedirect.com/science/article/...  \n",
       "12  https://www.sciencedirect.com/science/article/...  \n",
       "13  https://www.sciencedirect.com/science/article/...  \n",
       "14  https://www.sciencedirect.com/science/article/...  \n",
       "15  https://www.sciencedirect.com/science/article/...  \n",
       "16  https://www.sciencedirect.com/science/article/...  \n",
       "17  https://www.sciencedirect.com/science/article/...  \n",
       "18  https://www.sciencedirect.com/science/article/...  \n",
       "19  https://www.sciencedirect.com/science/article/...  \n",
       "20  https://www.sciencedirect.com/science/article/...  \n",
       "21  https://www.sciencedirect.com/science/article/...  \n",
       "22  https://www.sciencedirect.com/science/article/...  \n",
       "23  https://www.sciencedirect.com/science/article/...  "
      ]
     },
     "execution_count": 26,
     "metadata": {},
     "output_type": "execute_result"
    }
   ],
   "source": [
    "df = pd.DataFrame({\"Paper Title\":title,\"Authors\":author,\"Published Date\":date,\"Paper Url\":url})\n",
    "df"
   ]
  },
  {
   "cell_type": "markdown",
   "id": "a61d0f17",
   "metadata": {},
   "source": [
    "# Question 7"
   ]
  },
  {
   "cell_type": "code",
   "execution_count": 79,
   "id": "401c03fc",
   "metadata": {},
   "outputs": [],
   "source": [
    "import requests as requests\n",
    "from bs4 import BeautifulSoup"
   ]
  },
  {
   "cell_type": "code",
   "execution_count": 80,
   "id": "36dc8f63",
   "metadata": {},
   "outputs": [],
   "source": [
    "url = \"https://www.dineout.co.in/delhi-restaurants/buffet-special\""
   ]
  },
  {
   "cell_type": "code",
   "execution_count": 81,
   "id": "dafa2a5d",
   "metadata": {},
   "outputs": [
    {
     "data": {
      "text/plain": [
       "<Response [200]>"
      ]
     },
     "execution_count": 81,
     "metadata": {},
     "output_type": "execute_result"
    }
   ],
   "source": [
    "page = requests.get(url)\n",
    "page"
   ]
  },
  {
   "cell_type": "code",
   "execution_count": 82,
   "id": "14e04a94",
   "metadata": {},
   "outputs": [],
   "source": [
    "soup = BeautifulSoup(page.content)"
   ]
  },
  {
   "cell_type": "code",
   "execution_count": 83,
   "id": "0a98b7fe",
   "metadata": {},
   "outputs": [
    {
     "data": {
      "text/plain": [
       "['Castle Barbeque',\n",
       " 'Jungle Jamboree',\n",
       " 'Cafe Knosh',\n",
       " \"Castle's Barbeque\",\n",
       " 'The Barbeque Company',\n",
       " 'India Grill',\n",
       " 'Delhi Barbeque',\n",
       " 'The Monarch - Bar Be Que Village',\n",
       " 'Indian Grill Room']"
      ]
     },
     "execution_count": 83,
     "metadata": {},
     "output_type": "execute_result"
    }
   ],
   "source": [
    "name = []\n",
    "for i in soup.find_all(\"a\",class_=\"restnt-name ellipsis\"):\n",
    "    name.append(i.text)\n",
    "name"
   ]
  },
  {
   "cell_type": "code",
   "execution_count": 37,
   "id": "6408db0c",
   "metadata": {},
   "outputs": [
    {
     "data": {
      "text/plain": [
       "[' Chinese, North Indian',\n",
       " ' North Indian, Asian, Italian',\n",
       " ' Italian, Continental',\n",
       " ' Chinese, North Indian',\n",
       " ' North Indian, Chinese',\n",
       " ' North Indian, Italian',\n",
       " ' North Indian',\n",
       " ' North Indian',\n",
       " ' North Indian, Mughlai']"
      ]
     },
     "execution_count": 37,
     "metadata": {},
     "output_type": "execute_result"
    }
   ],
   "source": [
    "cuisine = []\n",
    "for i in soup.find_all(\"span\",class_=\"double-line-ellipsis\"):\n",
    "    cuisine.append(i.text.split('|')[1])\n",
    "    \n",
    "cuisine"
   ]
  },
  {
   "cell_type": "code",
   "execution_count": 40,
   "id": "cf706c6a",
   "metadata": {},
   "outputs": [
    {
     "data": {
      "text/plain": [
       "['Connaught Place, Central Delhi',\n",
       " '3CS Mall,Lajpat Nagar - 3, South Delhi',\n",
       " 'The Leela Ambience Convention Hotel,Shahdara, East Delhi',\n",
       " 'Pacific Mall,Tagore Garden, West Delhi',\n",
       " 'Gardens Galleria,Sector 38A, Noida',\n",
       " 'Hilton Garden Inn,Saket, South Delhi',\n",
       " 'Taurus Sarovar Portico,Mahipalpur, South Delhi',\n",
       " 'Indirapuram Habitat Centre,Indirapuram, Ghaziabad',\n",
       " 'Suncity Business Tower,Golf Course Road, Gurgaon']"
      ]
     },
     "execution_count": 40,
     "metadata": {},
     "output_type": "execute_result"
    }
   ],
   "source": [
    "location = []\n",
    "for i in soup.find_all(\"div\",class_=\"restnt-loc ellipsis\"):\n",
    "    location.append(i.text)\n",
    "location"
   ]
  },
  {
   "cell_type": "code",
   "execution_count": 42,
   "id": "0ec225f9",
   "metadata": {},
   "outputs": [
    {
     "data": {
      "text/plain": [
       "['4', '3.9', '4.3', '3.9', '3.9', '3.9', '3.7', '3.8', '4.3']"
      ]
     },
     "execution_count": 42,
     "metadata": {},
     "output_type": "execute_result"
    }
   ],
   "source": [
    "rating = []\n",
    "for i in soup.find_all(\"div\",class_=\"restnt-rating rating-4\"):\n",
    "    rating.append(i.text)\n",
    "rating"
   ]
  },
  {
   "cell_type": "code",
   "execution_count": 44,
   "id": "2290afb0",
   "metadata": {},
   "outputs": [
    {
     "data": {
      "text/plain": [
       "['https://im1.dineout.co.in/images/uploads/restaurant/sharpen/8/k/b/p86792-16062953735fbe1f4d3fb7e.jpg?tr=tr:n-medium',\n",
       " 'https://im1.dineout.co.in/images/uploads/restaurant/sharpen/5/p/m/p59633-166088382462ff137009010.jpg?tr=tr:n-medium',\n",
       " 'https://im1.dineout.co.in/images/uploads/restaurant/sharpen/4/p/m/p406-15438184745c04ccea491bc.jpg?tr=tr:n-medium',\n",
       " 'https://im1.dineout.co.in/images/uploads/restaurant/sharpen/3/j/o/p38113-15959192065f1fcb666130c.jpg?tr=tr:n-medium',\n",
       " 'https://im1.dineout.co.in/images/uploads/restaurant/sharpen/7/p/k/p79307-16051787755fad1597f2bf9.jpg?tr=tr:n-medium',\n",
       " 'https://im1.dineout.co.in/images/uploads/restaurant/sharpen/2/v/t/p2687-1482477169585cce712b90f.jpg?tr=tr:n-medium',\n",
       " 'https://im1.dineout.co.in/images/uploads/restaurant/sharpen/5/d/i/p52501-1661855212630de5eceb6d2.jpg?tr=tr:n-medium',\n",
       " 'https://im1.dineout.co.in/images/uploads/restaurant/sharpen/3/n/o/p34822-15599107305cfa594a13c24.jpg?tr=tr:n-medium',\n",
       " 'https://im1.dineout.co.in/images/uploads/restaurant/sharpen/5/y/f/p549-165000147262590640c0afc.jpg?tr=tr:n-medium']"
      ]
     },
     "execution_count": 44,
     "metadata": {},
     "output_type": "execute_result"
    }
   ],
   "source": [
    "img_url = []\n",
    "for i in soup.find_all(\"img\",class_=\"no-img\"):\n",
    "    img_url.append(i.get('data-src'))\n",
    "img_url"
   ]
  },
  {
   "cell_type": "code",
   "execution_count": 47,
   "id": "f91df421",
   "metadata": {},
   "outputs": [],
   "source": [
    "import pandas as pd"
   ]
  },
  {
   "cell_type": "code",
   "execution_count": 48,
   "id": "9d38f351",
   "metadata": {},
   "outputs": [
    {
     "data": {
      "text/html": [
       "<div>\n",
       "<style scoped>\n",
       "    .dataframe tbody tr th:only-of-type {\n",
       "        vertical-align: middle;\n",
       "    }\n",
       "\n",
       "    .dataframe tbody tr th {\n",
       "        vertical-align: top;\n",
       "    }\n",
       "\n",
       "    .dataframe thead th {\n",
       "        text-align: right;\n",
       "    }\n",
       "</style>\n",
       "<table border=\"1\" class=\"dataframe\">\n",
       "  <thead>\n",
       "    <tr style=\"text-align: right;\">\n",
       "      <th></th>\n",
       "      <th>Restaurant name</th>\n",
       "      <th>Cuisine</th>\n",
       "      <th>Location</th>\n",
       "      <th>Ratings</th>\n",
       "      <th>Image URL</th>\n",
       "    </tr>\n",
       "  </thead>\n",
       "  <tbody>\n",
       "    <tr>\n",
       "      <th>0</th>\n",
       "      <td>Castle Barbeque</td>\n",
       "      <td>Chinese, North Indian</td>\n",
       "      <td>Connaught Place, Central Delhi</td>\n",
       "      <td>4</td>\n",
       "      <td>https://im1.dineout.co.in/images/uploads/resta...</td>\n",
       "    </tr>\n",
       "    <tr>\n",
       "      <th>1</th>\n",
       "      <td>Jungle Jamboree</td>\n",
       "      <td>North Indian, Asian, Italian</td>\n",
       "      <td>3CS Mall,Lajpat Nagar - 3, South Delhi</td>\n",
       "      <td>3.9</td>\n",
       "      <td>https://im1.dineout.co.in/images/uploads/resta...</td>\n",
       "    </tr>\n",
       "    <tr>\n",
       "      <th>2</th>\n",
       "      <td>Cafe Knosh</td>\n",
       "      <td>Italian, Continental</td>\n",
       "      <td>The Leela Ambience Convention Hotel,Shahdara, ...</td>\n",
       "      <td>4.3</td>\n",
       "      <td>https://im1.dineout.co.in/images/uploads/resta...</td>\n",
       "    </tr>\n",
       "    <tr>\n",
       "      <th>3</th>\n",
       "      <td>Castle's Barbeque</td>\n",
       "      <td>Chinese, North Indian</td>\n",
       "      <td>Pacific Mall,Tagore Garden, West Delhi</td>\n",
       "      <td>3.9</td>\n",
       "      <td>https://im1.dineout.co.in/images/uploads/resta...</td>\n",
       "    </tr>\n",
       "    <tr>\n",
       "      <th>4</th>\n",
       "      <td>The Barbeque Company</td>\n",
       "      <td>North Indian, Chinese</td>\n",
       "      <td>Gardens Galleria,Sector 38A, Noida</td>\n",
       "      <td>3.9</td>\n",
       "      <td>https://im1.dineout.co.in/images/uploads/resta...</td>\n",
       "    </tr>\n",
       "    <tr>\n",
       "      <th>5</th>\n",
       "      <td>India Grill</td>\n",
       "      <td>North Indian, Italian</td>\n",
       "      <td>Hilton Garden Inn,Saket, South Delhi</td>\n",
       "      <td>3.9</td>\n",
       "      <td>https://im1.dineout.co.in/images/uploads/resta...</td>\n",
       "    </tr>\n",
       "    <tr>\n",
       "      <th>6</th>\n",
       "      <td>Delhi Barbeque</td>\n",
       "      <td>North Indian</td>\n",
       "      <td>Taurus Sarovar Portico,Mahipalpur, South Delhi</td>\n",
       "      <td>3.7</td>\n",
       "      <td>https://im1.dineout.co.in/images/uploads/resta...</td>\n",
       "    </tr>\n",
       "    <tr>\n",
       "      <th>7</th>\n",
       "      <td>The Monarch - Bar Be Que Village</td>\n",
       "      <td>North Indian</td>\n",
       "      <td>Indirapuram Habitat Centre,Indirapuram, Ghaziabad</td>\n",
       "      <td>3.8</td>\n",
       "      <td>https://im1.dineout.co.in/images/uploads/resta...</td>\n",
       "    </tr>\n",
       "    <tr>\n",
       "      <th>8</th>\n",
       "      <td>Indian Grill Room</td>\n",
       "      <td>North Indian, Mughlai</td>\n",
       "      <td>Suncity Business Tower,Golf Course Road, Gurgaon</td>\n",
       "      <td>4.3</td>\n",
       "      <td>https://im1.dineout.co.in/images/uploads/resta...</td>\n",
       "    </tr>\n",
       "  </tbody>\n",
       "</table>\n",
       "</div>"
      ],
      "text/plain": [
       "                    Restaurant name                        Cuisine  \\\n",
       "0                   Castle Barbeque          Chinese, North Indian   \n",
       "1                   Jungle Jamboree   North Indian, Asian, Italian   \n",
       "2                        Cafe Knosh           Italian, Continental   \n",
       "3                 Castle's Barbeque          Chinese, North Indian   \n",
       "4              The Barbeque Company          North Indian, Chinese   \n",
       "5                       India Grill          North Indian, Italian   \n",
       "6                    Delhi Barbeque                   North Indian   \n",
       "7  The Monarch - Bar Be Que Village                   North Indian   \n",
       "8                 Indian Grill Room          North Indian, Mughlai   \n",
       "\n",
       "                                            Location Ratings  \\\n",
       "0                     Connaught Place, Central Delhi       4   \n",
       "1             3CS Mall,Lajpat Nagar - 3, South Delhi     3.9   \n",
       "2  The Leela Ambience Convention Hotel,Shahdara, ...     4.3   \n",
       "3             Pacific Mall,Tagore Garden, West Delhi     3.9   \n",
       "4                 Gardens Galleria,Sector 38A, Noida     3.9   \n",
       "5               Hilton Garden Inn,Saket, South Delhi     3.9   \n",
       "6     Taurus Sarovar Portico,Mahipalpur, South Delhi     3.7   \n",
       "7  Indirapuram Habitat Centre,Indirapuram, Ghaziabad     3.8   \n",
       "8   Suncity Business Tower,Golf Course Road, Gurgaon     4.3   \n",
       "\n",
       "                                           Image URL  \n",
       "0  https://im1.dineout.co.in/images/uploads/resta...  \n",
       "1  https://im1.dineout.co.in/images/uploads/resta...  \n",
       "2  https://im1.dineout.co.in/images/uploads/resta...  \n",
       "3  https://im1.dineout.co.in/images/uploads/resta...  \n",
       "4  https://im1.dineout.co.in/images/uploads/resta...  \n",
       "5  https://im1.dineout.co.in/images/uploads/resta...  \n",
       "6  https://im1.dineout.co.in/images/uploads/resta...  \n",
       "7  https://im1.dineout.co.in/images/uploads/resta...  \n",
       "8  https://im1.dineout.co.in/images/uploads/resta...  "
      ]
     },
     "execution_count": 48,
     "metadata": {},
     "output_type": "execute_result"
    }
   ],
   "source": [
    "df = pd.DataFrame({\"Restaurant name\":name,\"Cuisine\":cuisine,\"Location\":location,\"Ratings\":rating,\"Image URL\":img_url})\n",
    "df"
   ]
  },
  {
   "cell_type": "markdown",
   "id": "e6a06b88",
   "metadata": {},
   "source": [
    "# Question 5"
   ]
  },
  {
   "cell_type": "code",
   "execution_count": 93,
   "id": "c5dd9c1a",
   "metadata": {},
   "outputs": [],
   "source": [
    "import requests as requests\n",
    "from bs4 import BeautifulSoup"
   ]
  },
  {
   "cell_type": "code",
   "execution_count": 94,
   "id": "da0c3b83",
   "metadata": {},
   "outputs": [],
   "source": [
    "url = \"https://www.cnbc.com/world/?region=world\""
   ]
  },
  {
   "cell_type": "code",
   "execution_count": 95,
   "id": "83154677",
   "metadata": {},
   "outputs": [
    {
     "data": {
      "text/plain": [
       "<Response [200]>"
      ]
     },
     "execution_count": 95,
     "metadata": {},
     "output_type": "execute_result"
    }
   ],
   "source": [
    "page = requests.get(url)\n",
    "page"
   ]
  },
  {
   "cell_type": "code",
   "execution_count": 96,
   "id": "29b862c6",
   "metadata": {},
   "outputs": [],
   "source": [
    "soup = BeautifulSoup(page.content)"
   ]
  },
  {
   "cell_type": "code",
   "execution_count": 97,
   "id": "8e9dda77",
   "metadata": {},
   "outputs": [
    {
     "data": {
      "text/plain": [
       "['Chris Christie doubles down on Trump attacks and Social Security cuts',\n",
       " \"Cohabitating after separating is not uncommon: Here's why it can be successful  \",\n",
       " \"GOP presidential candidate Burgum says he doesn't want to engage in 'every culture war topic'\",\n",
       " \"Yellen had a 'constructive visit' to China with opportunities for 'more frequent contacts' in the future, she says\",\n",
       " \"Jim Cramer calls for 'buy and homework' over 'buy and hold': What does he mean?\",\n",
       " 'How a 28-year-old in Norway prepares for a required 3-week summer vacation',\n",
       " '10 rules of ikigai, from authors of the Japanese ‘secret’ for longevity',\n",
       " '5 low-stress summer jobs that are hiring right now—many pay over $20 an hour',\n",
       " 'Americans need to earn over $230,000 a year to feel secure, survey finds',\n",
       " 'Bill Gates says Warren Buffett taught him how to value free time',\n",
       " 'Now Boarding: Why is boarding an airplane so difficult?',\n",
       " 'These stocks that are about to turn a profit should outperform, Jefferies says',\n",
       " 'Earnings playbook: JPMorgan Chase and Delta Air Lines kick off the season',\n",
       " \"Yellen says Beijing talks a step forward in putting U.S.-China ties on 'surer footing'\",\n",
       " 'U.S. soccer star Megan Rapinoe announces retirement ',\n",
       " 'How to start a pet-sitting side hustle—you could make as much as $40 per hour',\n",
       " '3 things to pay attention to in the markets this coming week',\n",
       " 'These U.S. states have the best and the worst tap water',\n",
       " \"The No. 1 vitamin kids in the U.S. 'aren't getting enough of' today: Dietitian and parenting expert\",\n",
       " 'How the generative A.I. boom could forever change online advertising',\n",
       " 'The 10 U.S. cities where rent has increased the most in the last year',\n",
       " \"As 'bougie broke' videos trend, here's why experts say that's not a bad thing\",\n",
       " 'The Fed rolls out a new economic index that could have big implications',\n",
       " \"Active funds are powering JPMorgan's ETFs past rivals — Why it may continue\",\n",
       " 'Micron and Pfizer are the most oversold S&P 500 stocks. Here are the others',\n",
       " \"Medicare will pay for Alzheimer's drug Leqembi. What patients, doctors should know\",\n",
       " 'Buy Buy Baby auction is canceled, but buyers are still interested in making a bid',\n",
       " \"Elon Musk's Twitter sues top law firm Wachtell over $90 million fee \",\n",
       " \"Biogen falls after Alzheimer’s drug approval. Here's what the pros are saying\",\n",
       " \"Justin Bieber's Bored Ape NFT has lost about 95% of its value since 2022\"]"
      ]
     },
     "execution_count": 97,
     "metadata": {},
     "output_type": "execute_result"
    }
   ],
   "source": [
    "headline = []\n",
    "for i in soup.find_all(\"a\",class_=\"LatestNews-headline\"):\n",
    "    headline.append(i.text)\n",
    "headline"
   ]
  },
  {
   "cell_type": "code",
   "execution_count": 98,
   "id": "986f9171",
   "metadata": {},
   "outputs": [
    {
     "data": {
      "text/plain": [
       "['59 Min Ago',\n",
       " '2 Hours Ago',\n",
       " '2 Hours Ago',\n",
       " '3 Hours Ago',\n",
       " '4 Hours Ago',\n",
       " '4 Hours Ago',\n",
       " '4 Hours Ago',\n",
       " '4 Hours Ago',\n",
       " '5 Hours Ago',\n",
       " '5 Hours Ago',\n",
       " '6 Hours Ago',\n",
       " '7 Hours Ago',\n",
       " '7 Hours Ago',\n",
       " '13 Hours Ago',\n",
       " '24 Hours Ago',\n",
       " 'July 8, 2023',\n",
       " 'July 8, 2023',\n",
       " 'July 8, 2023',\n",
       " 'July 8, 2023',\n",
       " 'July 8, 2023',\n",
       " 'July 8, 2023',\n",
       " 'July 8, 2023',\n",
       " 'July 8, 2023',\n",
       " 'July 8, 2023',\n",
       " 'July 8, 2023',\n",
       " 'July 8, 2023',\n",
       " 'July 7, 2023',\n",
       " 'July 7, 2023',\n",
       " 'July 7, 2023',\n",
       " 'July 7, 2023']"
      ]
     },
     "execution_count": 98,
     "metadata": {},
     "output_type": "execute_result"
    }
   ],
   "source": [
    "time = []\n",
    "for i in soup.find_all(\"time\",class_=\"LatestNews-timestamp\"):\n",
    "    time.append(i.text)\n",
    "time"
   ]
  },
  {
   "cell_type": "code",
   "execution_count": 99,
   "id": "a1fdda6c",
   "metadata": {},
   "outputs": [
    {
     "data": {
      "text/plain": [
       "['https://www.cnbc.com/2023/07/09/chris-christie-on-trump-attacks-and-social-security-cuts.html',\n",
       " 'https://www.cnbc.com/2023/07/09/marriage-therapist-cohabitating-after-separating-is-not-uncommon.html',\n",
       " 'https://www.cnbc.com/2023/07/09/republican-candidate-doug-burgum-interview-meet-the-press-culture-issues-china.html',\n",
       " 'https://www.cnbc.com/2023/07/09/yellen-had-a-constructive-visit-to-china-with-opportunities-for-more-frequent-contacts-in-the-future-she-says.html',\n",
       " 'https://www.cnbc.com/2023/07/09/cramer-advises-buy-and-homework-over-buy-and-hold-what-that-means.html',\n",
       " 'https://www.cnbc.com/2023/07/09/how-a-norway-28-year-old-prepares-for-required-3-week-summer-vacation.html',\n",
       " 'https://www.cnbc.com/2023/07/09/10-rules-of-ikigai-from-authors-of-the-japanese-secret-for-longevity.html',\n",
       " 'https://www.cnbc.com/2023/07/09/5-low-stress-summer-jobs-that-are-hiring-nowmany-pay-over-20-an-hour.html',\n",
       " 'https://www.cnbc.com/2023/07/09/salary-americans-need-to-feel-financially-secure.html',\n",
       " 'https://www.cnbc.com/2023/07/09/bill-gates-says-warren-buffett-taught-him-how-to-value-free-time.html',\n",
       " 'https://www.cnbc.com/2023/07/09/now-boarding-why-is-boarding-an-airplane-so-difficult.html',\n",
       " 'https://www.cnbc.com/2023/07/09/these-stocks-that-are-about-to-turn-a-profit-should-beat-the-market-jefferies-says.html',\n",
       " 'https://www.cnbc.com/2023/07/09/earnings-playbook-jpmorgan-chase-and-delta-air-lines-kick-off-the-season.html',\n",
       " 'https://www.cnbc.com/2023/07/09/janet-yellen-comments-on-us-china-relations-during-beijing-visit-.html',\n",
       " 'https://www.cnbc.com/2023/07/08/us-soccer-star-megan-rapinoe-announces-retirement-.html',\n",
       " 'https://www.cnbc.com/2023/07/08/how-to-start-a-side-hustle-as-a-pet-sitter-.html',\n",
       " 'https://www.cnbc.com/2023/07/08/3-things-to-pay-attention-to-in-the-markets-this-coming-week.html',\n",
       " 'https://www.cnbc.com/2023/07/08/best-and-worst-tap-water-states-j-d-power-study.html',\n",
       " 'https://www.cnbc.com/2023/07/08/no-1-nutrient-vitamin-american-kids-today-arent-getting-enough-of-according-to-dietitian-parenting-expert.html',\n",
       " 'https://www.cnbc.com/2023/07/08/how-the-generative-ai-boom-could-forever-change-online-advertising.html',\n",
       " 'https://www.cnbc.com/2023/07/08/us-cities-where-rent-has-increased-the-most.html',\n",
       " 'https://www.cnbc.com/2023/07/08/as-bougie-broke-videos-trend-experts-say-thats-not-a-bad-thing.html',\n",
       " 'https://www.cnbc.com/2023/07/08/the-fed-has-rolled-out-a-new-index-for-gauging-the-economy-that-could-have-big-implications.html',\n",
       " 'https://www.cnbc.com/2023/07/08/active-funds-are-powering-jpmorgans-etfs-past-rivals-heres-why-it-may-continue.html',\n",
       " 'https://www.cnbc.com/2023/07/08/micron-and-pfizer-are-the-most-oversold-sp-500-stocks-here-are-the-other-buying-opportunities.html',\n",
       " 'https://www.cnbc.com/2023/07/08/leqembi-and-medicare-what-patients-and-doctors-should-know.html',\n",
       " 'https://www.cnbc.com/2023/07/07/buy-buy-baby-auction-canceled-bidders-still-interested.html',\n",
       " 'https://www.cnbc.com/2023/07/07/elon-musks-twitter-sues-top-law-firm-wachtell-over-90-million-fee-.html',\n",
       " 'https://www.cnbc.com/2023/07/07/biogen-falls-after-alzheimers-drug-approval-what-the-pros-are-saying.html',\n",
       " 'https://www.cnbc.com/2023/07/07/justin-biebers-bored-ape-nft-has-lost-95-percent-of-its-value-since-2022.html']"
      ]
     },
     "execution_count": 99,
     "metadata": {},
     "output_type": "execute_result"
    }
   ],
   "source": [
    "link = []\n",
    "for i in soup.find_all(\"a\",class_=\"LatestNews-headline\"):\n",
    "    link.append(i.get('href'))\n",
    "link"
   ]
  },
  {
   "cell_type": "code",
   "execution_count": 100,
   "id": "a8801dcc",
   "metadata": {},
   "outputs": [],
   "source": [
    "import pandas as pd"
   ]
  },
  {
   "cell_type": "code",
   "execution_count": 92,
   "id": "e1f9a2a9",
   "metadata": {},
   "outputs": [
    {
     "data": {
      "text/html": [
       "<div>\n",
       "<style scoped>\n",
       "    .dataframe tbody tr th:only-of-type {\n",
       "        vertical-align: middle;\n",
       "    }\n",
       "\n",
       "    .dataframe tbody tr th {\n",
       "        vertical-align: top;\n",
       "    }\n",
       "\n",
       "    .dataframe thead th {\n",
       "        text-align: right;\n",
       "    }\n",
       "</style>\n",
       "<table border=\"1\" class=\"dataframe\">\n",
       "  <thead>\n",
       "    <tr style=\"text-align: right;\">\n",
       "      <th></th>\n",
       "      <th>Headline</th>\n",
       "      <th>Time</th>\n",
       "      <th>News Link</th>\n",
       "    </tr>\n",
       "  </thead>\n",
       "  <tbody>\n",
       "    <tr>\n",
       "      <th>0</th>\n",
       "      <td>Chris Christie doubles down on Trump attacks a...</td>\n",
       "      <td>59 Min Ago</td>\n",
       "      <td>https://www.cnbc.com/2023/07/09/chris-christie...</td>\n",
       "    </tr>\n",
       "    <tr>\n",
       "      <th>1</th>\n",
       "      <td>Cohabitating after separating is not uncommon:...</td>\n",
       "      <td>2 Hours Ago</td>\n",
       "      <td>https://www.cnbc.com/2023/07/09/marriage-thera...</td>\n",
       "    </tr>\n",
       "    <tr>\n",
       "      <th>2</th>\n",
       "      <td>GOP presidential candidate Burgum says he does...</td>\n",
       "      <td>2 Hours Ago</td>\n",
       "      <td>https://www.cnbc.com/2023/07/09/republican-can...</td>\n",
       "    </tr>\n",
       "    <tr>\n",
       "      <th>3</th>\n",
       "      <td>Yellen had a 'constructive visit' to China wit...</td>\n",
       "      <td>3 Hours Ago</td>\n",
       "      <td>https://www.cnbc.com/2023/07/09/yellen-had-a-c...</td>\n",
       "    </tr>\n",
       "    <tr>\n",
       "      <th>4</th>\n",
       "      <td>Jim Cramer calls for 'buy and homework' over '...</td>\n",
       "      <td>4 Hours Ago</td>\n",
       "      <td>https://www.cnbc.com/2023/07/09/cramer-advises...</td>\n",
       "    </tr>\n",
       "    <tr>\n",
       "      <th>5</th>\n",
       "      <td>How a 28-year-old in Norway prepares for a req...</td>\n",
       "      <td>4 Hours Ago</td>\n",
       "      <td>https://www.cnbc.com/2023/07/09/how-a-norway-2...</td>\n",
       "    </tr>\n",
       "    <tr>\n",
       "      <th>6</th>\n",
       "      <td>10 rules of ikigai, from authors of the Japane...</td>\n",
       "      <td>4 Hours Ago</td>\n",
       "      <td>https://www.cnbc.com/2023/07/09/10-rules-of-ik...</td>\n",
       "    </tr>\n",
       "    <tr>\n",
       "      <th>7</th>\n",
       "      <td>5 low-stress summer jobs that are hiring right...</td>\n",
       "      <td>4 Hours Ago</td>\n",
       "      <td>https://www.cnbc.com/2023/07/09/5-low-stress-s...</td>\n",
       "    </tr>\n",
       "    <tr>\n",
       "      <th>8</th>\n",
       "      <td>Americans need to earn over $230,000 a year to...</td>\n",
       "      <td>5 Hours Ago</td>\n",
       "      <td>https://www.cnbc.com/2023/07/09/salary-america...</td>\n",
       "    </tr>\n",
       "    <tr>\n",
       "      <th>9</th>\n",
       "      <td>Bill Gates says Warren Buffett taught him how ...</td>\n",
       "      <td>5 Hours Ago</td>\n",
       "      <td>https://www.cnbc.com/2023/07/09/bill-gates-say...</td>\n",
       "    </tr>\n",
       "    <tr>\n",
       "      <th>10</th>\n",
       "      <td>Now Boarding: Why is boarding an airplane so d...</td>\n",
       "      <td>6 Hours Ago</td>\n",
       "      <td>https://www.cnbc.com/2023/07/09/now-boarding-w...</td>\n",
       "    </tr>\n",
       "    <tr>\n",
       "      <th>11</th>\n",
       "      <td>These stocks that are about to turn a profit s...</td>\n",
       "      <td>7 Hours Ago</td>\n",
       "      <td>https://www.cnbc.com/2023/07/09/these-stocks-t...</td>\n",
       "    </tr>\n",
       "    <tr>\n",
       "      <th>12</th>\n",
       "      <td>Earnings playbook: JPMorgan Chase and Delta Ai...</td>\n",
       "      <td>7 Hours Ago</td>\n",
       "      <td>https://www.cnbc.com/2023/07/09/earnings-playb...</td>\n",
       "    </tr>\n",
       "    <tr>\n",
       "      <th>13</th>\n",
       "      <td>Yellen says Beijing talks a step forward in pu...</td>\n",
       "      <td>13 Hours Ago</td>\n",
       "      <td>https://www.cnbc.com/2023/07/09/janet-yellen-c...</td>\n",
       "    </tr>\n",
       "    <tr>\n",
       "      <th>14</th>\n",
       "      <td>U.S. soccer star Megan Rapinoe announces retir...</td>\n",
       "      <td>24 Hours Ago</td>\n",
       "      <td>https://www.cnbc.com/2023/07/08/us-soccer-star...</td>\n",
       "    </tr>\n",
       "    <tr>\n",
       "      <th>15</th>\n",
       "      <td>How to start a pet-sitting side hustle—you cou...</td>\n",
       "      <td>July 8, 2023</td>\n",
       "      <td>https://www.cnbc.com/2023/07/08/how-to-start-a...</td>\n",
       "    </tr>\n",
       "    <tr>\n",
       "      <th>16</th>\n",
       "      <td>3 things to pay attention to in the markets th...</td>\n",
       "      <td>July 8, 2023</td>\n",
       "      <td>https://www.cnbc.com/2023/07/08/3-things-to-pa...</td>\n",
       "    </tr>\n",
       "    <tr>\n",
       "      <th>17</th>\n",
       "      <td>These U.S. states have the best and the worst ...</td>\n",
       "      <td>July 8, 2023</td>\n",
       "      <td>https://www.cnbc.com/2023/07/08/best-and-worst...</td>\n",
       "    </tr>\n",
       "    <tr>\n",
       "      <th>18</th>\n",
       "      <td>The No. 1 vitamin kids in the U.S. 'aren't get...</td>\n",
       "      <td>July 8, 2023</td>\n",
       "      <td>https://www.cnbc.com/2023/07/08/no-1-nutrient-...</td>\n",
       "    </tr>\n",
       "    <tr>\n",
       "      <th>19</th>\n",
       "      <td>How the generative A.I. boom could forever cha...</td>\n",
       "      <td>July 8, 2023</td>\n",
       "      <td>https://www.cnbc.com/2023/07/08/how-the-genera...</td>\n",
       "    </tr>\n",
       "    <tr>\n",
       "      <th>20</th>\n",
       "      <td>The 10 U.S. cities where rent has increased th...</td>\n",
       "      <td>July 8, 2023</td>\n",
       "      <td>https://www.cnbc.com/2023/07/08/us-cities-wher...</td>\n",
       "    </tr>\n",
       "    <tr>\n",
       "      <th>21</th>\n",
       "      <td>As 'bougie broke' videos trend, here's why exp...</td>\n",
       "      <td>July 8, 2023</td>\n",
       "      <td>https://www.cnbc.com/2023/07/08/as-bougie-brok...</td>\n",
       "    </tr>\n",
       "    <tr>\n",
       "      <th>22</th>\n",
       "      <td>The Fed rolls out a new economic index that co...</td>\n",
       "      <td>July 8, 2023</td>\n",
       "      <td>https://www.cnbc.com/2023/07/08/the-fed-has-ro...</td>\n",
       "    </tr>\n",
       "    <tr>\n",
       "      <th>23</th>\n",
       "      <td>Active funds are powering JPMorgan's ETFs past...</td>\n",
       "      <td>July 8, 2023</td>\n",
       "      <td>https://www.cnbc.com/2023/07/08/active-funds-a...</td>\n",
       "    </tr>\n",
       "    <tr>\n",
       "      <th>24</th>\n",
       "      <td>Micron and Pfizer are the most oversold S&amp;P 50...</td>\n",
       "      <td>July 8, 2023</td>\n",
       "      <td>https://www.cnbc.com/2023/07/08/micron-and-pfi...</td>\n",
       "    </tr>\n",
       "    <tr>\n",
       "      <th>25</th>\n",
       "      <td>Medicare will pay for Alzheimer's drug Leqembi...</td>\n",
       "      <td>July 8, 2023</td>\n",
       "      <td>https://www.cnbc.com/2023/07/08/leqembi-and-me...</td>\n",
       "    </tr>\n",
       "    <tr>\n",
       "      <th>26</th>\n",
       "      <td>Buy Buy Baby auction is canceled, but buyers a...</td>\n",
       "      <td>July 7, 2023</td>\n",
       "      <td>https://www.cnbc.com/2023/07/07/buy-buy-baby-a...</td>\n",
       "    </tr>\n",
       "    <tr>\n",
       "      <th>27</th>\n",
       "      <td>Elon Musk's Twitter sues top law firm Wachtell...</td>\n",
       "      <td>July 7, 2023</td>\n",
       "      <td>https://www.cnbc.com/2023/07/07/elon-musks-twi...</td>\n",
       "    </tr>\n",
       "    <tr>\n",
       "      <th>28</th>\n",
       "      <td>Biogen falls after Alzheimer’s drug approval. ...</td>\n",
       "      <td>July 7, 2023</td>\n",
       "      <td>https://www.cnbc.com/2023/07/07/biogen-falls-a...</td>\n",
       "    </tr>\n",
       "    <tr>\n",
       "      <th>29</th>\n",
       "      <td>Justin Bieber's Bored Ape NFT has lost about 9...</td>\n",
       "      <td>July 7, 2023</td>\n",
       "      <td>https://www.cnbc.com/2023/07/07/justin-biebers...</td>\n",
       "    </tr>\n",
       "  </tbody>\n",
       "</table>\n",
       "</div>"
      ],
      "text/plain": [
       "                                             Headline          Time  \\\n",
       "0   Chris Christie doubles down on Trump attacks a...    59 Min Ago   \n",
       "1   Cohabitating after separating is not uncommon:...   2 Hours Ago   \n",
       "2   GOP presidential candidate Burgum says he does...   2 Hours Ago   \n",
       "3   Yellen had a 'constructive visit' to China wit...   3 Hours Ago   \n",
       "4   Jim Cramer calls for 'buy and homework' over '...   4 Hours Ago   \n",
       "5   How a 28-year-old in Norway prepares for a req...   4 Hours Ago   \n",
       "6   10 rules of ikigai, from authors of the Japane...   4 Hours Ago   \n",
       "7   5 low-stress summer jobs that are hiring right...   4 Hours Ago   \n",
       "8   Americans need to earn over $230,000 a year to...   5 Hours Ago   \n",
       "9   Bill Gates says Warren Buffett taught him how ...   5 Hours Ago   \n",
       "10  Now Boarding: Why is boarding an airplane so d...   6 Hours Ago   \n",
       "11  These stocks that are about to turn a profit s...   7 Hours Ago   \n",
       "12  Earnings playbook: JPMorgan Chase and Delta Ai...   7 Hours Ago   \n",
       "13  Yellen says Beijing talks a step forward in pu...  13 Hours Ago   \n",
       "14  U.S. soccer star Megan Rapinoe announces retir...  24 Hours Ago   \n",
       "15  How to start a pet-sitting side hustle—you cou...  July 8, 2023   \n",
       "16  3 things to pay attention to in the markets th...  July 8, 2023   \n",
       "17  These U.S. states have the best and the worst ...  July 8, 2023   \n",
       "18  The No. 1 vitamin kids in the U.S. 'aren't get...  July 8, 2023   \n",
       "19  How the generative A.I. boom could forever cha...  July 8, 2023   \n",
       "20  The 10 U.S. cities where rent has increased th...  July 8, 2023   \n",
       "21  As 'bougie broke' videos trend, here's why exp...  July 8, 2023   \n",
       "22  The Fed rolls out a new economic index that co...  July 8, 2023   \n",
       "23  Active funds are powering JPMorgan's ETFs past...  July 8, 2023   \n",
       "24  Micron and Pfizer are the most oversold S&P 50...  July 8, 2023   \n",
       "25  Medicare will pay for Alzheimer's drug Leqembi...  July 8, 2023   \n",
       "26  Buy Buy Baby auction is canceled, but buyers a...  July 7, 2023   \n",
       "27  Elon Musk's Twitter sues top law firm Wachtell...  July 7, 2023   \n",
       "28  Biogen falls after Alzheimer’s drug approval. ...  July 7, 2023   \n",
       "29  Justin Bieber's Bored Ape NFT has lost about 9...  July 7, 2023   \n",
       "\n",
       "                                            News Link  \n",
       "0   https://www.cnbc.com/2023/07/09/chris-christie...  \n",
       "1   https://www.cnbc.com/2023/07/09/marriage-thera...  \n",
       "2   https://www.cnbc.com/2023/07/09/republican-can...  \n",
       "3   https://www.cnbc.com/2023/07/09/yellen-had-a-c...  \n",
       "4   https://www.cnbc.com/2023/07/09/cramer-advises...  \n",
       "5   https://www.cnbc.com/2023/07/09/how-a-norway-2...  \n",
       "6   https://www.cnbc.com/2023/07/09/10-rules-of-ik...  \n",
       "7   https://www.cnbc.com/2023/07/09/5-low-stress-s...  \n",
       "8   https://www.cnbc.com/2023/07/09/salary-america...  \n",
       "9   https://www.cnbc.com/2023/07/09/bill-gates-say...  \n",
       "10  https://www.cnbc.com/2023/07/09/now-boarding-w...  \n",
       "11  https://www.cnbc.com/2023/07/09/these-stocks-t...  \n",
       "12  https://www.cnbc.com/2023/07/09/earnings-playb...  \n",
       "13  https://www.cnbc.com/2023/07/09/janet-yellen-c...  \n",
       "14  https://www.cnbc.com/2023/07/08/us-soccer-star...  \n",
       "15  https://www.cnbc.com/2023/07/08/how-to-start-a...  \n",
       "16  https://www.cnbc.com/2023/07/08/3-things-to-pa...  \n",
       "17  https://www.cnbc.com/2023/07/08/best-and-worst...  \n",
       "18  https://www.cnbc.com/2023/07/08/no-1-nutrient-...  \n",
       "19  https://www.cnbc.com/2023/07/08/how-the-genera...  \n",
       "20  https://www.cnbc.com/2023/07/08/us-cities-wher...  \n",
       "21  https://www.cnbc.com/2023/07/08/as-bougie-brok...  \n",
       "22  https://www.cnbc.com/2023/07/08/the-fed-has-ro...  \n",
       "23  https://www.cnbc.com/2023/07/08/active-funds-a...  \n",
       "24  https://www.cnbc.com/2023/07/08/micron-and-pfi...  \n",
       "25  https://www.cnbc.com/2023/07/08/leqembi-and-me...  \n",
       "26  https://www.cnbc.com/2023/07/07/buy-buy-baby-a...  \n",
       "27  https://www.cnbc.com/2023/07/07/elon-musks-twi...  \n",
       "28  https://www.cnbc.com/2023/07/07/biogen-falls-a...  \n",
       "29  https://www.cnbc.com/2023/07/07/justin-biebers...  "
      ]
     },
     "execution_count": 92,
     "metadata": {},
     "output_type": "execute_result"
    }
   ],
   "source": [
    "df = pd.DataFrame({\"Headline\":headline,\"Time\":time,\"News Link\":link})\n",
    "df"
   ]
  },
  {
   "cell_type": "code",
   "execution_count": null,
   "id": "ab7f42b9",
   "metadata": {},
   "outputs": [],
   "source": []
  }
 ],
 "metadata": {
  "kernelspec": {
   "display_name": "Python 3 (ipykernel)",
   "language": "python",
   "name": "python3"
  },
  "language_info": {
   "codemirror_mode": {
    "name": "ipython",
    "version": 3
   },
   "file_extension": ".py",
   "mimetype": "text/x-python",
   "name": "python",
   "nbconvert_exporter": "python",
   "pygments_lexer": "ipython3",
   "version": "3.9.13"
  }
 },
 "nbformat": 4,
 "nbformat_minor": 5
}
